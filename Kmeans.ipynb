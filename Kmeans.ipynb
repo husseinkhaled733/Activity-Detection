{
 "cells": [
  {
   "cell_type": "markdown",
   "source": [
    "# Imports"
   ],
   "metadata": {
    "collapsed": false
   },
   "id": "32da862a9655b034"
  },
  {
   "cell_type": "code",
   "execution_count": 1,
   "outputs": [],
   "source": [
    "import os\n",
    "import numpy as np\n",
    "import pandas as pd\n",
    "from sklearn import metrics\n",
    "from sklearn.decomposition import PCA\n",
    "import matplotlib.pyplot as plt\n",
    "from Evaluation import compute_clusters, compute_purity, compute_recall, compute_f1, compute_entropy"
   ],
   "metadata": {
    "collapsed": false,
    "ExecuteTime": {
     "end_time": "2024-03-27T05:31:19.598252300Z",
     "start_time": "2024-03-27T05:31:18.108870300Z"
    }
   },
   "id": "a617e95ba5e531a8"
  },
  {
   "cell_type": "markdown",
   "source": [
    "# Reading Data from Text Files"
   ],
   "metadata": {
    "collapsed": false
   },
   "id": "f3d3807ac9e97836"
  },
  {
   "cell_type": "code",
   "execution_count": 2,
   "id": "initial_id",
   "metadata": {
    "collapsed": true,
    "ExecuteTime": {
     "end_time": "2024-03-27T05:32:38.460238900Z",
     "start_time": "2024-03-27T05:31:25.947906700Z"
    }
   },
   "outputs": [
    {
     "name": "stdout",
     "output_type": "stream",
     "text": [
      "Activity Number: 1\n",
      "Activity: a01\n",
      "Activity Number: 2\n",
      "Activity: a02\n",
      "Activity Number: 3\n",
      "Activity: a03\n",
      "Activity Number: 4\n",
      "Activity: a04\n",
      "Activity Number: 5\n",
      "Activity: a05\n",
      "Activity Number: 6\n",
      "Activity: a06\n",
      "Activity Number: 7\n",
      "Activity: a07\n",
      "Activity Number: 8\n",
      "Activity: a08\n",
      "Activity Number: 9\n",
      "Activity: a09\n",
      "Activity Number: 10\n",
      "Activity: a10\n",
      "Activity Number: 11\n",
      "Activity: a11\n",
      "Activity Number: 12\n",
      "Activity: a12\n",
      "Activity Number: 13\n",
      "Activity: a13\n",
      "Activity Number: 14\n",
      "Activity: a14\n",
      "Activity Number: 15\n",
      "Activity: a15\n",
      "Activity Number: 16\n",
      "Activity: a16\n",
      "Activity Number: 17\n",
      "Activity: a17\n",
      "Activity Number: 18\n",
      "Activity: a18\n",
      "Activity Number: 19\n",
      "Activity: a19\n"
     ]
    }
   ],
   "source": [
    "data_directory = \"data\"\n",
    "training_data_means = []\n",
    "evaluation_data_means = []\n",
    "flattened_training_data = []\n",
    "flattened_evaluation_data = []\n",
    "training_labels = []\n",
    "evaluation_labels = []\n",
    "\n",
    "# Step 1: Accessing the Data Directory\n",
    "activities = os.listdir(data_directory)\n",
    "\n",
    "# Step 2: Iterating Through Activity Folders\n",
    "for activity in activities:\n",
    "    activity_path = os.path.join(data_directory, activity)\n",
    "    activity_number = int(activity.split(\"a\")[1])\n",
    "    \n",
    "    print(\"Activity Number:\", activity_number)\n",
    "    print(\"Activity:\", activity)\n",
    "    training_labels.extend([activity_number] * 48 * 8)  # 48 segments for training\n",
    "    evaluation_labels.extend([activity_number] * 12 * 8)  # 12 segments for evaluation\n",
    "    \n",
    "    \n",
    "    # Step 3: Iterating Through Subject Folders\n",
    "    subjects = os.listdir(activity_path)\n",
    "    for subject in subjects:\n",
    "        subject_path = os.path.join(activity_path, subject)\n",
    "        \n",
    "        # Step 4: Reading Text Files (Segments)\n",
    "        segments = os.listdir(subject_path)\n",
    "        training_segments = segments[:48]  # First 48 segments for training\n",
    "        evaluation_segments = segments[48:]  # Rest for evaluation\n",
    "        \n",
    "        for segment_file in training_segments:\n",
    "            segment_file_path = os.path.join(subject_path, segment_file)\n",
    "            with open(segment_file_path, 'r') as file:\n",
    "                segment_data = np.loadtxt(file, delimiter=',')\n",
    "                mean_data = np.mean(segment_data, axis=0)  # Taking mean along columns\n",
    "                training_data_means.append(mean_data)\n",
    "                \n",
    "                flattened_data = segment_data.flatten()  # Flattening the segment\n",
    "                flattened_training_data.append(flattened_data)\n",
    "        \n",
    "        for segment_file in evaluation_segments:\n",
    "            segment_file_path = os.path.join(subject_path, segment_file)\n",
    "            with open(segment_file_path, 'r') as file:\n",
    "                segment_data = np.loadtxt(file, delimiter=',')\n",
    "                mean_data = np.mean(segment_data, axis=0)  # Taking mean along columns\n",
    "                evaluation_data_means.append(mean_data)\n",
    "                \n",
    "                flattened_data = segment_data.flatten()  # Flattening the segment\n",
    "                flattened_evaluation_data.append(flattened_data)\n",
    "\n",
    "# Convert the data lists into numpy arrays\n",
    "training_data_means = np.array(training_data_means)\n",
    "evaluation_data_means = np.array(evaluation_data_means)\n",
    "flattened_training_data = np.array(flattened_training_data)\n",
    "flattened_evaluation_data = np.array(flattened_evaluation_data)\n",
    "PCA_training_data = PCA(n_components=0.9).fit_transform(flattened_training_data)\n",
    "PCA_evaluation_data = PCA(n_components=0.9).fit_transform(flattened_evaluation_data)"
   ]
  },
  {
   "cell_type": "markdown",
   "source": [
    "# Display Data"
   ],
   "metadata": {
    "collapsed": false
   },
   "id": "80b811ae3de03448"
  },
  {
   "cell_type": "code",
   "execution_count": 3,
   "outputs": [
    {
     "name": "stdout",
     "output_type": "stream",
     "text": [
      "Shape of training labels (7296,)\n",
      "Shape of evaluation labels (1824,)\n",
      "Shape of training data (means): (7296, 45)\n",
      "Shape of evaluation data (means): (1824, 45)\n",
      "Shape of flattened training data: (7296, 5625)\n",
      "Shape of flattened evaluation data: (1824, 5625)\n",
      "Shape of PCA training data: (7296, 342)\n",
      "Shape of PCA evaluation data: (1824, 203)\n"
     ]
    }
   ],
   "source": [
    "# Now, 'training_data_means' and 'evaluation_data_means' contain mean values of each column for each segment,\n",
    "# and 'flattened_training_data' and 'flattened_evaluation_data' contain flattened data for each segment.\n",
    "print(\"Shape of training labels\", np.array(training_labels).shape)\n",
    "print(\"Shape of evaluation labels\", np.array(evaluation_labels).shape)\n",
    "print(\"Shape of training data (means):\", training_data_means.shape)\n",
    "print(\"Shape of evaluation data (means):\", evaluation_data_means.shape)\n",
    "print(\"Shape of flattened training data:\", flattened_training_data.shape)\n",
    "print(\"Shape of flattened evaluation data:\", flattened_evaluation_data.shape)\n",
    "print(\"Shape of PCA training data:\", PCA_training_data.shape)\n",
    "print(\"Shape of PCA evaluation data:\", PCA_evaluation_data.shape)"
   ],
   "metadata": {
    "collapsed": false,
    "ExecuteTime": {
     "end_time": "2024-03-27T05:33:13.536696400Z",
     "start_time": "2024-03-27T05:33:13.531158400Z"
    }
   },
   "id": "aa21449fe45034bb"
  },
  {
   "cell_type": "code",
   "execution_count": 4,
   "outputs": [
    {
     "data": {
      "text/plain": "       0\n0      1\n1      1\n2      1\n3      1\n4      1\n...   ..\n7291  19\n7292  19\n7293  19\n7294  19\n7295  19\n\n[7296 rows x 1 columns]",
      "text/html": "<div>\n<style scoped>\n    .dataframe tbody tr th:only-of-type {\n        vertical-align: middle;\n    }\n\n    .dataframe tbody tr th {\n        vertical-align: top;\n    }\n\n    .dataframe thead th {\n        text-align: right;\n    }\n</style>\n<table border=\"1\" class=\"dataframe\">\n  <thead>\n    <tr style=\"text-align: right;\">\n      <th></th>\n      <th>0</th>\n    </tr>\n  </thead>\n  <tbody>\n    <tr>\n      <th>0</th>\n      <td>1</td>\n    </tr>\n    <tr>\n      <th>1</th>\n      <td>1</td>\n    </tr>\n    <tr>\n      <th>2</th>\n      <td>1</td>\n    </tr>\n    <tr>\n      <th>3</th>\n      <td>1</td>\n    </tr>\n    <tr>\n      <th>4</th>\n      <td>1</td>\n    </tr>\n    <tr>\n      <th>...</th>\n      <td>...</td>\n    </tr>\n    <tr>\n      <th>7291</th>\n      <td>19</td>\n    </tr>\n    <tr>\n      <th>7292</th>\n      <td>19</td>\n    </tr>\n    <tr>\n      <th>7293</th>\n      <td>19</td>\n    </tr>\n    <tr>\n      <th>7294</th>\n      <td>19</td>\n    </tr>\n    <tr>\n      <th>7295</th>\n      <td>19</td>\n    </tr>\n  </tbody>\n</table>\n<p>7296 rows × 1 columns</p>\n</div>"
     },
     "execution_count": 4,
     "metadata": {},
     "output_type": "execute_result"
    }
   ],
   "source": [
    "pd.DataFrame(training_labels)"
   ],
   "metadata": {
    "collapsed": false,
    "ExecuteTime": {
     "end_time": "2024-03-27T05:33:17.579768900Z",
     "start_time": "2024-03-27T05:33:17.566603700Z"
    }
   },
   "id": "d375ad930fbb53e0"
  },
  {
   "cell_type": "code",
   "execution_count": 5,
   "outputs": [
    {
     "data": {
      "text/plain": "       0\n0      1\n1      1\n2      1\n3      1\n4      1\n...   ..\n1819  19\n1820  19\n1821  19\n1822  19\n1823  19\n\n[1824 rows x 1 columns]",
      "text/html": "<div>\n<style scoped>\n    .dataframe tbody tr th:only-of-type {\n        vertical-align: middle;\n    }\n\n    .dataframe tbody tr th {\n        vertical-align: top;\n    }\n\n    .dataframe thead th {\n        text-align: right;\n    }\n</style>\n<table border=\"1\" class=\"dataframe\">\n  <thead>\n    <tr style=\"text-align: right;\">\n      <th></th>\n      <th>0</th>\n    </tr>\n  </thead>\n  <tbody>\n    <tr>\n      <th>0</th>\n      <td>1</td>\n    </tr>\n    <tr>\n      <th>1</th>\n      <td>1</td>\n    </tr>\n    <tr>\n      <th>2</th>\n      <td>1</td>\n    </tr>\n    <tr>\n      <th>3</th>\n      <td>1</td>\n    </tr>\n    <tr>\n      <th>4</th>\n      <td>1</td>\n    </tr>\n    <tr>\n      <th>...</th>\n      <td>...</td>\n    </tr>\n    <tr>\n      <th>1819</th>\n      <td>19</td>\n    </tr>\n    <tr>\n      <th>1820</th>\n      <td>19</td>\n    </tr>\n    <tr>\n      <th>1821</th>\n      <td>19</td>\n    </tr>\n    <tr>\n      <th>1822</th>\n      <td>19</td>\n    </tr>\n    <tr>\n      <th>1823</th>\n      <td>19</td>\n    </tr>\n  </tbody>\n</table>\n<p>1824 rows × 1 columns</p>\n</div>"
     },
     "execution_count": 5,
     "metadata": {},
     "output_type": "execute_result"
    }
   ],
   "source": [
    "pd.DataFrame(evaluation_labels)"
   ],
   "metadata": {
    "collapsed": false,
    "ExecuteTime": {
     "end_time": "2024-03-27T05:33:19.356426Z",
     "start_time": "2024-03-27T05:33:19.352172700Z"
    }
   },
   "id": "2f49da7db27d8229"
  },
  {
   "cell_type": "code",
   "execution_count": 6,
   "outputs": [
    {
     "data": {
      "text/plain": "            0         1         2         3         4         5         6   \\\n0     7.975714  1.083150  5.606846  0.004897  0.026123 -0.003726 -0.790726   \n1     7.978250  1.140865  5.598922  0.003308  0.022514 -0.003240 -0.791962   \n2     7.970894  1.140962  5.607750  0.001846  0.018806 -0.003486 -0.792875   \n3     7.938412  1.165260  5.648969  0.003788  0.023768 -0.003512 -0.793550   \n4     7.908930  1.187504  5.680980  0.001086  0.012242 -0.002488 -0.793872   \n...        ...       ...       ...       ...       ...       ...       ...   \n7291  9.636061 -0.817827  0.666605 -0.166818  0.169352 -0.102916 -0.706365   \n7292  9.208050 -0.028595  0.035554 -0.252890 -0.232438  0.070761 -0.712689   \n7293  9.085391 -0.729566 -1.186151  0.004378  0.100392 -0.197931 -0.684232   \n7294  9.252281 -0.822683  0.074980 -0.127898 -0.085208  0.086088 -0.743356   \n7295  9.733124 -0.510628  0.673081  0.045287  0.185148 -0.013829 -0.746205   \n\n            7         8         9   ...        35         36        37  \\\n0    -0.068490  0.135897  0.679134  ... -0.035894  -2.814833 -9.085131   \n1    -0.070157  0.137123  0.644964  ... -0.036834  -2.812867 -9.082297   \n2    -0.070723  0.136436  0.608212  ... -0.038748  -2.807500 -9.082531   \n3    -0.071969  0.131983  0.591138  ... -0.039665  -2.814711 -9.080514   \n4    -0.072597  0.128345  0.558168  ... -0.039774  -2.811185 -9.082110   \n...        ...       ...       ...  ...       ...        ...       ...   \n7291  0.223675  0.178247  3.288036  ...  0.428232 -10.141740 -0.963973   \n7292 -0.332383  0.251540  8.854872  ... -0.085556  -9.868485 -1.063173   \n7293 -0.013913  0.447402  4.768502  ...  0.247806  -9.728274 -1.066991   \n7294 -0.408631 -0.091266  7.935659  ... -0.282472  -9.725768 -0.638715   \n7295 -0.399301 -0.112885  2.107252  ... -0.279634 -10.010367 -0.487107   \n\n            38        39        40        41        42        43        44  \n0     2.618207 -0.005036  0.002166 -0.003155  0.739615  0.301314 -0.057119  \n1     2.624948 -0.004721  0.001699 -0.003727  0.740610  0.301896 -0.057268  \n2     2.627137 -0.005584  0.001496 -0.003810  0.740970  0.302462 -0.057068  \n3     2.629053 -0.006103  0.002277 -0.003669  0.741128  0.302388 -0.056422  \n4     2.624799 -0.004796  0.001837 -0.002592  0.741038  0.302977 -0.055801  \n...        ...       ...       ...       ...       ...       ...       ...  \n7291 -1.014032  0.121843  0.217958  0.040094  0.693697 -0.165776 -0.077733  \n7292 -0.387856  0.221960 -0.030719  0.126698  0.716365 -0.148170  0.375404  \n7293 -0.916056 -0.105329  0.134909 -0.103218  0.706763 -0.286951  0.112680  \n7294 -0.476301  0.112858 -0.051090  0.076192  0.630075  0.168104  0.523236  \n7295 -1.205156 -0.040286  0.029185 -0.121775  0.640451  0.180054  0.552014  \n\n[7296 rows x 45 columns]",
      "text/html": "<div>\n<style scoped>\n    .dataframe tbody tr th:only-of-type {\n        vertical-align: middle;\n    }\n\n    .dataframe tbody tr th {\n        vertical-align: top;\n    }\n\n    .dataframe thead th {\n        text-align: right;\n    }\n</style>\n<table border=\"1\" class=\"dataframe\">\n  <thead>\n    <tr style=\"text-align: right;\">\n      <th></th>\n      <th>0</th>\n      <th>1</th>\n      <th>2</th>\n      <th>3</th>\n      <th>4</th>\n      <th>5</th>\n      <th>6</th>\n      <th>7</th>\n      <th>8</th>\n      <th>9</th>\n      <th>...</th>\n      <th>35</th>\n      <th>36</th>\n      <th>37</th>\n      <th>38</th>\n      <th>39</th>\n      <th>40</th>\n      <th>41</th>\n      <th>42</th>\n      <th>43</th>\n      <th>44</th>\n    </tr>\n  </thead>\n  <tbody>\n    <tr>\n      <th>0</th>\n      <td>7.975714</td>\n      <td>1.083150</td>\n      <td>5.606846</td>\n      <td>0.004897</td>\n      <td>0.026123</td>\n      <td>-0.003726</td>\n      <td>-0.790726</td>\n      <td>-0.068490</td>\n      <td>0.135897</td>\n      <td>0.679134</td>\n      <td>...</td>\n      <td>-0.035894</td>\n      <td>-2.814833</td>\n      <td>-9.085131</td>\n      <td>2.618207</td>\n      <td>-0.005036</td>\n      <td>0.002166</td>\n      <td>-0.003155</td>\n      <td>0.739615</td>\n      <td>0.301314</td>\n      <td>-0.057119</td>\n    </tr>\n    <tr>\n      <th>1</th>\n      <td>7.978250</td>\n      <td>1.140865</td>\n      <td>5.598922</td>\n      <td>0.003308</td>\n      <td>0.022514</td>\n      <td>-0.003240</td>\n      <td>-0.791962</td>\n      <td>-0.070157</td>\n      <td>0.137123</td>\n      <td>0.644964</td>\n      <td>...</td>\n      <td>-0.036834</td>\n      <td>-2.812867</td>\n      <td>-9.082297</td>\n      <td>2.624948</td>\n      <td>-0.004721</td>\n      <td>0.001699</td>\n      <td>-0.003727</td>\n      <td>0.740610</td>\n      <td>0.301896</td>\n      <td>-0.057268</td>\n    </tr>\n    <tr>\n      <th>2</th>\n      <td>7.970894</td>\n      <td>1.140962</td>\n      <td>5.607750</td>\n      <td>0.001846</td>\n      <td>0.018806</td>\n      <td>-0.003486</td>\n      <td>-0.792875</td>\n      <td>-0.070723</td>\n      <td>0.136436</td>\n      <td>0.608212</td>\n      <td>...</td>\n      <td>-0.038748</td>\n      <td>-2.807500</td>\n      <td>-9.082531</td>\n      <td>2.627137</td>\n      <td>-0.005584</td>\n      <td>0.001496</td>\n      <td>-0.003810</td>\n      <td>0.740970</td>\n      <td>0.302462</td>\n      <td>-0.057068</td>\n    </tr>\n    <tr>\n      <th>3</th>\n      <td>7.938412</td>\n      <td>1.165260</td>\n      <td>5.648969</td>\n      <td>0.003788</td>\n      <td>0.023768</td>\n      <td>-0.003512</td>\n      <td>-0.793550</td>\n      <td>-0.071969</td>\n      <td>0.131983</td>\n      <td>0.591138</td>\n      <td>...</td>\n      <td>-0.039665</td>\n      <td>-2.814711</td>\n      <td>-9.080514</td>\n      <td>2.629053</td>\n      <td>-0.006103</td>\n      <td>0.002277</td>\n      <td>-0.003669</td>\n      <td>0.741128</td>\n      <td>0.302388</td>\n      <td>-0.056422</td>\n    </tr>\n    <tr>\n      <th>4</th>\n      <td>7.908930</td>\n      <td>1.187504</td>\n      <td>5.680980</td>\n      <td>0.001086</td>\n      <td>0.012242</td>\n      <td>-0.002488</td>\n      <td>-0.793872</td>\n      <td>-0.072597</td>\n      <td>0.128345</td>\n      <td>0.558168</td>\n      <td>...</td>\n      <td>-0.039774</td>\n      <td>-2.811185</td>\n      <td>-9.082110</td>\n      <td>2.624799</td>\n      <td>-0.004796</td>\n      <td>0.001837</td>\n      <td>-0.002592</td>\n      <td>0.741038</td>\n      <td>0.302977</td>\n      <td>-0.055801</td>\n    </tr>\n    <tr>\n      <th>...</th>\n      <td>...</td>\n      <td>...</td>\n      <td>...</td>\n      <td>...</td>\n      <td>...</td>\n      <td>...</td>\n      <td>...</td>\n      <td>...</td>\n      <td>...</td>\n      <td>...</td>\n      <td>...</td>\n      <td>...</td>\n      <td>...</td>\n      <td>...</td>\n      <td>...</td>\n      <td>...</td>\n      <td>...</td>\n      <td>...</td>\n      <td>...</td>\n      <td>...</td>\n      <td>...</td>\n    </tr>\n    <tr>\n      <th>7291</th>\n      <td>9.636061</td>\n      <td>-0.817827</td>\n      <td>0.666605</td>\n      <td>-0.166818</td>\n      <td>0.169352</td>\n      <td>-0.102916</td>\n      <td>-0.706365</td>\n      <td>0.223675</td>\n      <td>0.178247</td>\n      <td>3.288036</td>\n      <td>...</td>\n      <td>0.428232</td>\n      <td>-10.141740</td>\n      <td>-0.963973</td>\n      <td>-1.014032</td>\n      <td>0.121843</td>\n      <td>0.217958</td>\n      <td>0.040094</td>\n      <td>0.693697</td>\n      <td>-0.165776</td>\n      <td>-0.077733</td>\n    </tr>\n    <tr>\n      <th>7292</th>\n      <td>9.208050</td>\n      <td>-0.028595</td>\n      <td>0.035554</td>\n      <td>-0.252890</td>\n      <td>-0.232438</td>\n      <td>0.070761</td>\n      <td>-0.712689</td>\n      <td>-0.332383</td>\n      <td>0.251540</td>\n      <td>8.854872</td>\n      <td>...</td>\n      <td>-0.085556</td>\n      <td>-9.868485</td>\n      <td>-1.063173</td>\n      <td>-0.387856</td>\n      <td>0.221960</td>\n      <td>-0.030719</td>\n      <td>0.126698</td>\n      <td>0.716365</td>\n      <td>-0.148170</td>\n      <td>0.375404</td>\n    </tr>\n    <tr>\n      <th>7293</th>\n      <td>9.085391</td>\n      <td>-0.729566</td>\n      <td>-1.186151</td>\n      <td>0.004378</td>\n      <td>0.100392</td>\n      <td>-0.197931</td>\n      <td>-0.684232</td>\n      <td>-0.013913</td>\n      <td>0.447402</td>\n      <td>4.768502</td>\n      <td>...</td>\n      <td>0.247806</td>\n      <td>-9.728274</td>\n      <td>-1.066991</td>\n      <td>-0.916056</td>\n      <td>-0.105329</td>\n      <td>0.134909</td>\n      <td>-0.103218</td>\n      <td>0.706763</td>\n      <td>-0.286951</td>\n      <td>0.112680</td>\n    </tr>\n    <tr>\n      <th>7294</th>\n      <td>9.252281</td>\n      <td>-0.822683</td>\n      <td>0.074980</td>\n      <td>-0.127898</td>\n      <td>-0.085208</td>\n      <td>0.086088</td>\n      <td>-0.743356</td>\n      <td>-0.408631</td>\n      <td>-0.091266</td>\n      <td>7.935659</td>\n      <td>...</td>\n      <td>-0.282472</td>\n      <td>-9.725768</td>\n      <td>-0.638715</td>\n      <td>-0.476301</td>\n      <td>0.112858</td>\n      <td>-0.051090</td>\n      <td>0.076192</td>\n      <td>0.630075</td>\n      <td>0.168104</td>\n      <td>0.523236</td>\n    </tr>\n    <tr>\n      <th>7295</th>\n      <td>9.733124</td>\n      <td>-0.510628</td>\n      <td>0.673081</td>\n      <td>0.045287</td>\n      <td>0.185148</td>\n      <td>-0.013829</td>\n      <td>-0.746205</td>\n      <td>-0.399301</td>\n      <td>-0.112885</td>\n      <td>2.107252</td>\n      <td>...</td>\n      <td>-0.279634</td>\n      <td>-10.010367</td>\n      <td>-0.487107</td>\n      <td>-1.205156</td>\n      <td>-0.040286</td>\n      <td>0.029185</td>\n      <td>-0.121775</td>\n      <td>0.640451</td>\n      <td>0.180054</td>\n      <td>0.552014</td>\n    </tr>\n  </tbody>\n</table>\n<p>7296 rows × 45 columns</p>\n</div>"
     },
     "execution_count": 6,
     "metadata": {},
     "output_type": "execute_result"
    }
   ],
   "source": [
    "pd.DataFrame(training_data_means)"
   ],
   "metadata": {
    "collapsed": false,
    "ExecuteTime": {
     "end_time": "2024-03-27T05:33:21.206563800Z",
     "start_time": "2024-03-27T05:33:21.184462Z"
    }
   },
   "id": "b934caf5f108c183"
  },
  {
   "cell_type": "code",
   "execution_count": 7,
   "outputs": [
    {
     "data": {
      "text/plain": "            0         1         2         3         4         5         6   \\\n0     7.854082  1.456251  5.694497  0.003143  0.019895 -0.003625 -0.792749   \n1     7.818099  1.462787  5.751147  0.001973  0.018319 -0.003239 -0.792798   \n2     7.809022  1.462826  5.754360  0.004406  0.025226 -0.003796 -0.791802   \n3     7.814455  1.482194  5.747409  0.000910  0.016790 -0.003389 -0.790146   \n4     7.822188  1.482432  5.728115  0.003867  0.023562 -0.003863 -0.790796   \n...        ...       ...       ...       ...       ...       ...       ...   \n1819  8.280854 -1.491537 -1.810327 -0.207825  0.000424 -0.033526 -0.743045   \n1820  9.591118  0.086304  0.953378 -0.282265  0.036106 -0.032716 -0.621380   \n1821  9.599113 -0.728367  0.746111  0.379479  0.009941  0.084331 -0.699988   \n1822  9.692482 -0.582724  0.758863  0.056271  0.057337 -0.030570 -0.764581   \n1823  9.380641 -0.266325  1.291950  0.105696 -0.035941  0.026507 -0.726484   \n\n            7         8         9   ...        35         36        37  \\\n0    -0.079225  0.126838  0.156108  ... -0.041449  -2.773110 -9.097752   \n1    -0.078748  0.121525  0.142965  ... -0.041341  -2.766255 -9.104143   \n2    -0.078422  0.120485  0.148502  ... -0.041566  -2.774948 -9.100124   \n3    -0.078166  0.121009  0.133379  ... -0.041223  -2.776000 -9.102172   \n4    -0.078869  0.122690  0.128382  ... -0.041219  -2.775946 -9.101374   \n...        ...       ...       ...  ...       ...        ...       ...   \n1819 -0.232313 -0.205412  8.690373  ... -0.198048  -9.514857 -1.029346   \n1820 -0.160003 -0.535185  6.477090  ... -0.064055 -10.192544 -0.766219   \n1821  0.344679 -0.252860  6.309986  ...  0.640837 -10.457773 -0.858208   \n1822 -0.438206 -0.075430  5.020496  ... -0.192422  -9.946800 -1.160466   \n1823 -0.450977 -0.141180  4.293377  ... -0.139300  -9.568473 -2.219150   \n\n            38        39        40        41        42        43        44  \n0     2.622869 -0.005791  0.002850 -0.003841  0.739407  0.304723 -0.056929  \n1     2.615004 -0.005679  0.001721 -0.002426  0.738331  0.305401 -0.057062  \n2     2.613834 -0.005993  0.001737 -0.002673  0.737764  0.303699 -0.057008  \n3     2.611489 -0.004303  0.001911 -0.003268  0.736539  0.303044 -0.057341  \n4     2.610259 -0.004588  0.003073 -0.002962  0.737319  0.303537 -0.057092  \n...        ...       ...       ...       ...       ...       ...       ...  \n1819 -0.173410  0.197243  0.099143 -0.017317  0.687913  0.522945  0.297666  \n1820 -1.774920  0.094482  0.030991 -0.022373  0.640863  0.498228  0.224716  \n1821 -1.934268 -0.232521 -0.012902 -0.086963  0.773123  0.145656 -0.237786  \n1822 -0.334505 -0.209831 -0.036731 -0.028740  0.714388  0.157381  0.533023  \n1823 -0.051846 -0.027390  0.005122 -0.079945  0.678463  0.247537  0.491919  \n\n[1824 rows x 45 columns]",
      "text/html": "<div>\n<style scoped>\n    .dataframe tbody tr th:only-of-type {\n        vertical-align: middle;\n    }\n\n    .dataframe tbody tr th {\n        vertical-align: top;\n    }\n\n    .dataframe thead th {\n        text-align: right;\n    }\n</style>\n<table border=\"1\" class=\"dataframe\">\n  <thead>\n    <tr style=\"text-align: right;\">\n      <th></th>\n      <th>0</th>\n      <th>1</th>\n      <th>2</th>\n      <th>3</th>\n      <th>4</th>\n      <th>5</th>\n      <th>6</th>\n      <th>7</th>\n      <th>8</th>\n      <th>9</th>\n      <th>...</th>\n      <th>35</th>\n      <th>36</th>\n      <th>37</th>\n      <th>38</th>\n      <th>39</th>\n      <th>40</th>\n      <th>41</th>\n      <th>42</th>\n      <th>43</th>\n      <th>44</th>\n    </tr>\n  </thead>\n  <tbody>\n    <tr>\n      <th>0</th>\n      <td>7.854082</td>\n      <td>1.456251</td>\n      <td>5.694497</td>\n      <td>0.003143</td>\n      <td>0.019895</td>\n      <td>-0.003625</td>\n      <td>-0.792749</td>\n      <td>-0.079225</td>\n      <td>0.126838</td>\n      <td>0.156108</td>\n      <td>...</td>\n      <td>-0.041449</td>\n      <td>-2.773110</td>\n      <td>-9.097752</td>\n      <td>2.622869</td>\n      <td>-0.005791</td>\n      <td>0.002850</td>\n      <td>-0.003841</td>\n      <td>0.739407</td>\n      <td>0.304723</td>\n      <td>-0.056929</td>\n    </tr>\n    <tr>\n      <th>1</th>\n      <td>7.818099</td>\n      <td>1.462787</td>\n      <td>5.751147</td>\n      <td>0.001973</td>\n      <td>0.018319</td>\n      <td>-0.003239</td>\n      <td>-0.792798</td>\n      <td>-0.078748</td>\n      <td>0.121525</td>\n      <td>0.142965</td>\n      <td>...</td>\n      <td>-0.041341</td>\n      <td>-2.766255</td>\n      <td>-9.104143</td>\n      <td>2.615004</td>\n      <td>-0.005679</td>\n      <td>0.001721</td>\n      <td>-0.002426</td>\n      <td>0.738331</td>\n      <td>0.305401</td>\n      <td>-0.057062</td>\n    </tr>\n    <tr>\n      <th>2</th>\n      <td>7.809022</td>\n      <td>1.462826</td>\n      <td>5.754360</td>\n      <td>0.004406</td>\n      <td>0.025226</td>\n      <td>-0.003796</td>\n      <td>-0.791802</td>\n      <td>-0.078422</td>\n      <td>0.120485</td>\n      <td>0.148502</td>\n      <td>...</td>\n      <td>-0.041566</td>\n      <td>-2.774948</td>\n      <td>-9.100124</td>\n      <td>2.613834</td>\n      <td>-0.005993</td>\n      <td>0.001737</td>\n      <td>-0.002673</td>\n      <td>0.737764</td>\n      <td>0.303699</td>\n      <td>-0.057008</td>\n    </tr>\n    <tr>\n      <th>3</th>\n      <td>7.814455</td>\n      <td>1.482194</td>\n      <td>5.747409</td>\n      <td>0.000910</td>\n      <td>0.016790</td>\n      <td>-0.003389</td>\n      <td>-0.790146</td>\n      <td>-0.078166</td>\n      <td>0.121009</td>\n      <td>0.133379</td>\n      <td>...</td>\n      <td>-0.041223</td>\n      <td>-2.776000</td>\n      <td>-9.102172</td>\n      <td>2.611489</td>\n      <td>-0.004303</td>\n      <td>0.001911</td>\n      <td>-0.003268</td>\n      <td>0.736539</td>\n      <td>0.303044</td>\n      <td>-0.057341</td>\n    </tr>\n    <tr>\n      <th>4</th>\n      <td>7.822188</td>\n      <td>1.482432</td>\n      <td>5.728115</td>\n      <td>0.003867</td>\n      <td>0.023562</td>\n      <td>-0.003863</td>\n      <td>-0.790796</td>\n      <td>-0.078869</td>\n      <td>0.122690</td>\n      <td>0.128382</td>\n      <td>...</td>\n      <td>-0.041219</td>\n      <td>-2.775946</td>\n      <td>-9.101374</td>\n      <td>2.610259</td>\n      <td>-0.004588</td>\n      <td>0.003073</td>\n      <td>-0.002962</td>\n      <td>0.737319</td>\n      <td>0.303537</td>\n      <td>-0.057092</td>\n    </tr>\n    <tr>\n      <th>...</th>\n      <td>...</td>\n      <td>...</td>\n      <td>...</td>\n      <td>...</td>\n      <td>...</td>\n      <td>...</td>\n      <td>...</td>\n      <td>...</td>\n      <td>...</td>\n      <td>...</td>\n      <td>...</td>\n      <td>...</td>\n      <td>...</td>\n      <td>...</td>\n      <td>...</td>\n      <td>...</td>\n      <td>...</td>\n      <td>...</td>\n      <td>...</td>\n      <td>...</td>\n      <td>...</td>\n    </tr>\n    <tr>\n      <th>1819</th>\n      <td>8.280854</td>\n      <td>-1.491537</td>\n      <td>-1.810327</td>\n      <td>-0.207825</td>\n      <td>0.000424</td>\n      <td>-0.033526</td>\n      <td>-0.743045</td>\n      <td>-0.232313</td>\n      <td>-0.205412</td>\n      <td>8.690373</td>\n      <td>...</td>\n      <td>-0.198048</td>\n      <td>-9.514857</td>\n      <td>-1.029346</td>\n      <td>-0.173410</td>\n      <td>0.197243</td>\n      <td>0.099143</td>\n      <td>-0.017317</td>\n      <td>0.687913</td>\n      <td>0.522945</td>\n      <td>0.297666</td>\n    </tr>\n    <tr>\n      <th>1820</th>\n      <td>9.591118</td>\n      <td>0.086304</td>\n      <td>0.953378</td>\n      <td>-0.282265</td>\n      <td>0.036106</td>\n      <td>-0.032716</td>\n      <td>-0.621380</td>\n      <td>-0.160003</td>\n      <td>-0.535185</td>\n      <td>6.477090</td>\n      <td>...</td>\n      <td>-0.064055</td>\n      <td>-10.192544</td>\n      <td>-0.766219</td>\n      <td>-1.774920</td>\n      <td>0.094482</td>\n      <td>0.030991</td>\n      <td>-0.022373</td>\n      <td>0.640863</td>\n      <td>0.498228</td>\n      <td>0.224716</td>\n    </tr>\n    <tr>\n      <th>1821</th>\n      <td>9.599113</td>\n      <td>-0.728367</td>\n      <td>0.746111</td>\n      <td>0.379479</td>\n      <td>0.009941</td>\n      <td>0.084331</td>\n      <td>-0.699988</td>\n      <td>0.344679</td>\n      <td>-0.252860</td>\n      <td>6.309986</td>\n      <td>...</td>\n      <td>0.640837</td>\n      <td>-10.457773</td>\n      <td>-0.858208</td>\n      <td>-1.934268</td>\n      <td>-0.232521</td>\n      <td>-0.012902</td>\n      <td>-0.086963</td>\n      <td>0.773123</td>\n      <td>0.145656</td>\n      <td>-0.237786</td>\n    </tr>\n    <tr>\n      <th>1822</th>\n      <td>9.692482</td>\n      <td>-0.582724</td>\n      <td>0.758863</td>\n      <td>0.056271</td>\n      <td>0.057337</td>\n      <td>-0.030570</td>\n      <td>-0.764581</td>\n      <td>-0.438206</td>\n      <td>-0.075430</td>\n      <td>5.020496</td>\n      <td>...</td>\n      <td>-0.192422</td>\n      <td>-9.946800</td>\n      <td>-1.160466</td>\n      <td>-0.334505</td>\n      <td>-0.209831</td>\n      <td>-0.036731</td>\n      <td>-0.028740</td>\n      <td>0.714388</td>\n      <td>0.157381</td>\n      <td>0.533023</td>\n    </tr>\n    <tr>\n      <th>1823</th>\n      <td>9.380641</td>\n      <td>-0.266325</td>\n      <td>1.291950</td>\n      <td>0.105696</td>\n      <td>-0.035941</td>\n      <td>0.026507</td>\n      <td>-0.726484</td>\n      <td>-0.450977</td>\n      <td>-0.141180</td>\n      <td>4.293377</td>\n      <td>...</td>\n      <td>-0.139300</td>\n      <td>-9.568473</td>\n      <td>-2.219150</td>\n      <td>-0.051846</td>\n      <td>-0.027390</td>\n      <td>0.005122</td>\n      <td>-0.079945</td>\n      <td>0.678463</td>\n      <td>0.247537</td>\n      <td>0.491919</td>\n    </tr>\n  </tbody>\n</table>\n<p>1824 rows × 45 columns</p>\n</div>"
     },
     "execution_count": 7,
     "metadata": {},
     "output_type": "execute_result"
    }
   ],
   "source": [
    "pd.DataFrame(evaluation_data_means)"
   ],
   "metadata": {
    "collapsed": false,
    "ExecuteTime": {
     "end_time": "2024-03-27T05:33:23.131169300Z",
     "start_time": "2024-03-27T05:33:23.109578400Z"
    }
   },
   "id": "70f597a64f0dc274"
  },
  {
   "cell_type": "code",
   "execution_count": 8,
   "outputs": [
    {
     "data": {
      "text/plain": "             0          1          2          3          4          5    \\\n0     117.479780 -15.081878 -25.262451  20.161103 -17.202622   1.507880   \n1     117.192437 -15.270750 -24.675299  20.983118 -17.987284   1.611497   \n2     117.335477 -15.291009 -23.907791  21.479542 -18.375017   1.730878   \n3     117.483758 -15.456825 -23.623990  22.021948 -18.174414   1.681469   \n4     117.874571 -15.652052 -23.193157  22.421622 -17.969986   1.734918   \n...          ...        ...        ...        ...        ...        ...   \n7291  -44.555917 -11.404959  21.950198 -34.574760  10.483557   6.505011   \n7292  -92.722280  10.527358 -40.322598  -9.608462   0.847616   6.751602   \n7293  -71.847502  -2.191509  -0.883760  -7.090788 -15.144780 -19.809343   \n7294  -76.983524  19.312910 -35.938152 -29.550184  14.499609   0.438128   \n7295  -43.814938 -20.644457  66.319433  -3.151889 -20.169028  -5.154878   \n\n           6          7          8          9    ...        332       333  \\\n0    -2.091883  -7.672715 -69.638233  21.164041  ...   0.223474  0.432996   \n1    -2.099562  -7.661477 -69.573759  21.143386  ...   0.177481  0.406242   \n2    -2.199927  -7.716655 -69.734015  21.191607  ...   0.126475  0.355690   \n3    -2.174942  -7.765298 -69.482586  21.131655  ...   0.144077  0.398790   \n4    -2.224690  -7.702666 -69.325452  21.113117  ...   0.174106  0.402751   \n...        ...        ...        ...        ...  ...        ...       ...   \n7291  2.394975  -0.589461   0.968893  13.079053  ... -12.223740 -0.158059   \n7292  2.222593  -9.240928  -3.330877  16.068835  ...  -6.698948  5.445352   \n7293  7.476723  12.028284 -10.728885  -5.730117  ... -19.277540 -6.585787   \n7294 -4.591097   5.089399  -5.013416  -1.357255  ...  -9.616858 -3.499501   \n7295 -6.138705  -8.734746 -15.575646  11.881990  ...  10.788309  5.022816   \n\n            334        335        336        337        338        339  \\\n0     -0.133751  -0.242972  -0.437970   0.159149   0.212670   0.088582   \n1     -0.074422  -0.209429  -0.379948   0.003045   0.052372   0.307355   \n2     -0.096131  -0.312287  -0.378337   0.134514   0.092304   0.207380   \n3     -0.144767  -0.284755  -0.456203   0.157881   0.058852   0.131351   \n4     -0.156543  -0.268058  -0.350911   0.117443   0.097502   0.173928   \n...         ...        ...        ...        ...        ...        ...   \n7291  -3.036723 -10.815120  -0.265284 -17.737252  -0.074645 -14.433232   \n7292  14.294927  17.159822   3.730198  18.311282  15.270597   6.745702   \n7293  -7.374586   0.808126  15.192388  -1.538078   1.548771 -14.871527   \n7294   3.951223  -9.332422   2.509560   3.652877   3.890029  -5.265612   \n7295  -5.359250  -7.110378   3.958671  -2.855934 -15.665945   0.761627   \n\n            340        341  \n0      0.691092  -0.221120  \n1      0.709612  -0.408416  \n2      0.697389  -0.368035  \n3      0.730133  -0.340523  \n4      0.626771  -0.359934  \n...         ...        ...  \n7291  17.841659   0.621895  \n7292   5.466236  -6.596172  \n7293 -12.459866  18.149437  \n7294 -13.716344  -0.862646  \n7295   9.129654   3.724231  \n\n[7296 rows x 342 columns]",
      "text/html": "<div>\n<style scoped>\n    .dataframe tbody tr th:only-of-type {\n        vertical-align: middle;\n    }\n\n    .dataframe tbody tr th {\n        vertical-align: top;\n    }\n\n    .dataframe thead th {\n        text-align: right;\n    }\n</style>\n<table border=\"1\" class=\"dataframe\">\n  <thead>\n    <tr style=\"text-align: right;\">\n      <th></th>\n      <th>0</th>\n      <th>1</th>\n      <th>2</th>\n      <th>3</th>\n      <th>4</th>\n      <th>5</th>\n      <th>6</th>\n      <th>7</th>\n      <th>8</th>\n      <th>9</th>\n      <th>...</th>\n      <th>332</th>\n      <th>333</th>\n      <th>334</th>\n      <th>335</th>\n      <th>336</th>\n      <th>337</th>\n      <th>338</th>\n      <th>339</th>\n      <th>340</th>\n      <th>341</th>\n    </tr>\n  </thead>\n  <tbody>\n    <tr>\n      <th>0</th>\n      <td>117.479780</td>\n      <td>-15.081878</td>\n      <td>-25.262451</td>\n      <td>20.161103</td>\n      <td>-17.202622</td>\n      <td>1.507880</td>\n      <td>-2.091883</td>\n      <td>-7.672715</td>\n      <td>-69.638233</td>\n      <td>21.164041</td>\n      <td>...</td>\n      <td>0.223474</td>\n      <td>0.432996</td>\n      <td>-0.133751</td>\n      <td>-0.242972</td>\n      <td>-0.437970</td>\n      <td>0.159149</td>\n      <td>0.212670</td>\n      <td>0.088582</td>\n      <td>0.691092</td>\n      <td>-0.221120</td>\n    </tr>\n    <tr>\n      <th>1</th>\n      <td>117.192437</td>\n      <td>-15.270750</td>\n      <td>-24.675299</td>\n      <td>20.983118</td>\n      <td>-17.987284</td>\n      <td>1.611497</td>\n      <td>-2.099562</td>\n      <td>-7.661477</td>\n      <td>-69.573759</td>\n      <td>21.143386</td>\n      <td>...</td>\n      <td>0.177481</td>\n      <td>0.406242</td>\n      <td>-0.074422</td>\n      <td>-0.209429</td>\n      <td>-0.379948</td>\n      <td>0.003045</td>\n      <td>0.052372</td>\n      <td>0.307355</td>\n      <td>0.709612</td>\n      <td>-0.408416</td>\n    </tr>\n    <tr>\n      <th>2</th>\n      <td>117.335477</td>\n      <td>-15.291009</td>\n      <td>-23.907791</td>\n      <td>21.479542</td>\n      <td>-18.375017</td>\n      <td>1.730878</td>\n      <td>-2.199927</td>\n      <td>-7.716655</td>\n      <td>-69.734015</td>\n      <td>21.191607</td>\n      <td>...</td>\n      <td>0.126475</td>\n      <td>0.355690</td>\n      <td>-0.096131</td>\n      <td>-0.312287</td>\n      <td>-0.378337</td>\n      <td>0.134514</td>\n      <td>0.092304</td>\n      <td>0.207380</td>\n      <td>0.697389</td>\n      <td>-0.368035</td>\n    </tr>\n    <tr>\n      <th>3</th>\n      <td>117.483758</td>\n      <td>-15.456825</td>\n      <td>-23.623990</td>\n      <td>22.021948</td>\n      <td>-18.174414</td>\n      <td>1.681469</td>\n      <td>-2.174942</td>\n      <td>-7.765298</td>\n      <td>-69.482586</td>\n      <td>21.131655</td>\n      <td>...</td>\n      <td>0.144077</td>\n      <td>0.398790</td>\n      <td>-0.144767</td>\n      <td>-0.284755</td>\n      <td>-0.456203</td>\n      <td>0.157881</td>\n      <td>0.058852</td>\n      <td>0.131351</td>\n      <td>0.730133</td>\n      <td>-0.340523</td>\n    </tr>\n    <tr>\n      <th>4</th>\n      <td>117.874571</td>\n      <td>-15.652052</td>\n      <td>-23.193157</td>\n      <td>22.421622</td>\n      <td>-17.969986</td>\n      <td>1.734918</td>\n      <td>-2.224690</td>\n      <td>-7.702666</td>\n      <td>-69.325452</td>\n      <td>21.113117</td>\n      <td>...</td>\n      <td>0.174106</td>\n      <td>0.402751</td>\n      <td>-0.156543</td>\n      <td>-0.268058</td>\n      <td>-0.350911</td>\n      <td>0.117443</td>\n      <td>0.097502</td>\n      <td>0.173928</td>\n      <td>0.626771</td>\n      <td>-0.359934</td>\n    </tr>\n    <tr>\n      <th>...</th>\n      <td>...</td>\n      <td>...</td>\n      <td>...</td>\n      <td>...</td>\n      <td>...</td>\n      <td>...</td>\n      <td>...</td>\n      <td>...</td>\n      <td>...</td>\n      <td>...</td>\n      <td>...</td>\n      <td>...</td>\n      <td>...</td>\n      <td>...</td>\n      <td>...</td>\n      <td>...</td>\n      <td>...</td>\n      <td>...</td>\n      <td>...</td>\n      <td>...</td>\n      <td>...</td>\n    </tr>\n    <tr>\n      <th>7291</th>\n      <td>-44.555917</td>\n      <td>-11.404959</td>\n      <td>21.950198</td>\n      <td>-34.574760</td>\n      <td>10.483557</td>\n      <td>6.505011</td>\n      <td>2.394975</td>\n      <td>-0.589461</td>\n      <td>0.968893</td>\n      <td>13.079053</td>\n      <td>...</td>\n      <td>-12.223740</td>\n      <td>-0.158059</td>\n      <td>-3.036723</td>\n      <td>-10.815120</td>\n      <td>-0.265284</td>\n      <td>-17.737252</td>\n      <td>-0.074645</td>\n      <td>-14.433232</td>\n      <td>17.841659</td>\n      <td>0.621895</td>\n    </tr>\n    <tr>\n      <th>7292</th>\n      <td>-92.722280</td>\n      <td>10.527358</td>\n      <td>-40.322598</td>\n      <td>-9.608462</td>\n      <td>0.847616</td>\n      <td>6.751602</td>\n      <td>2.222593</td>\n      <td>-9.240928</td>\n      <td>-3.330877</td>\n      <td>16.068835</td>\n      <td>...</td>\n      <td>-6.698948</td>\n      <td>5.445352</td>\n      <td>14.294927</td>\n      <td>17.159822</td>\n      <td>3.730198</td>\n      <td>18.311282</td>\n      <td>15.270597</td>\n      <td>6.745702</td>\n      <td>5.466236</td>\n      <td>-6.596172</td>\n    </tr>\n    <tr>\n      <th>7293</th>\n      <td>-71.847502</td>\n      <td>-2.191509</td>\n      <td>-0.883760</td>\n      <td>-7.090788</td>\n      <td>-15.144780</td>\n      <td>-19.809343</td>\n      <td>7.476723</td>\n      <td>12.028284</td>\n      <td>-10.728885</td>\n      <td>-5.730117</td>\n      <td>...</td>\n      <td>-19.277540</td>\n      <td>-6.585787</td>\n      <td>-7.374586</td>\n      <td>0.808126</td>\n      <td>15.192388</td>\n      <td>-1.538078</td>\n      <td>1.548771</td>\n      <td>-14.871527</td>\n      <td>-12.459866</td>\n      <td>18.149437</td>\n    </tr>\n    <tr>\n      <th>7294</th>\n      <td>-76.983524</td>\n      <td>19.312910</td>\n      <td>-35.938152</td>\n      <td>-29.550184</td>\n      <td>14.499609</td>\n      <td>0.438128</td>\n      <td>-4.591097</td>\n      <td>5.089399</td>\n      <td>-5.013416</td>\n      <td>-1.357255</td>\n      <td>...</td>\n      <td>-9.616858</td>\n      <td>-3.499501</td>\n      <td>3.951223</td>\n      <td>-9.332422</td>\n      <td>2.509560</td>\n      <td>3.652877</td>\n      <td>3.890029</td>\n      <td>-5.265612</td>\n      <td>-13.716344</td>\n      <td>-0.862646</td>\n    </tr>\n    <tr>\n      <th>7295</th>\n      <td>-43.814938</td>\n      <td>-20.644457</td>\n      <td>66.319433</td>\n      <td>-3.151889</td>\n      <td>-20.169028</td>\n      <td>-5.154878</td>\n      <td>-6.138705</td>\n      <td>-8.734746</td>\n      <td>-15.575646</td>\n      <td>11.881990</td>\n      <td>...</td>\n      <td>10.788309</td>\n      <td>5.022816</td>\n      <td>-5.359250</td>\n      <td>-7.110378</td>\n      <td>3.958671</td>\n      <td>-2.855934</td>\n      <td>-15.665945</td>\n      <td>0.761627</td>\n      <td>9.129654</td>\n      <td>3.724231</td>\n    </tr>\n  </tbody>\n</table>\n<p>7296 rows × 342 columns</p>\n</div>"
     },
     "execution_count": 8,
     "metadata": {},
     "output_type": "execute_result"
    }
   ],
   "source": [
    "pd.DataFrame(PCA_training_data)"
   ],
   "metadata": {
    "collapsed": false,
    "ExecuteTime": {
     "end_time": "2024-03-27T05:33:25.045649700Z",
     "start_time": "2024-03-27T05:33:25.026652800Z"
    }
   },
   "id": "4aef1efd8c65a57c"
  },
  {
   "cell_type": "code",
   "execution_count": 9,
   "outputs": [
    {
     "data": {
      "text/plain": "             0          1          2          3          4           5    \\\n0     121.741276 -18.532317 -18.233717  21.990107  23.721718    0.265593   \n1     122.041239 -18.488867 -18.113113  22.451534  23.324605    0.236997   \n2     121.872674 -18.526802 -18.091153  22.649315  23.351816    0.270824   \n3     121.944404 -18.780667 -18.118332  22.632365  23.383787    0.285732   \n4     121.850191 -18.804005 -18.025001  22.572894  23.593152    0.259667   \n...          ...        ...        ...        ...        ...         ...   \n1819  -88.433229  25.004018 -23.990770 -11.103473  11.533247    5.345518   \n1820  -68.281484 -27.633038   2.307251  -1.350261   5.669564   -2.477249   \n1821  -53.621818 -28.630010  28.423740 -23.917304   5.035024 -116.018057   \n1822  -51.191511 -21.206067  11.404257 -21.908929   4.032080   -0.845348   \n1823  -37.700186 -11.612088  29.135858 -23.294050  -1.305801   14.299637   \n\n            6          7          8          9    ...        193        194  \\\n0      5.337134  -0.598922  -5.842693 -62.848456  ...   0.612035  -0.527682   \n1      5.292676  -0.614789  -5.879359 -62.755095  ...   0.595439  -0.506615   \n2      5.305729  -0.623641  -5.835910 -62.671009  ...   0.571297  -0.537637   \n3      5.327630  -0.594685  -5.850094 -62.537639  ...   0.550011  -0.459967   \n4      5.335662  -0.613675  -5.842390 -62.549254  ...   0.515170  -0.461316   \n...         ...        ...        ...        ...  ...        ...        ...   \n1819 -21.754606  10.184293  -0.525775 -23.073820  ...   2.340520  12.860884   \n1820  -9.057184  11.760181   8.734326  -0.488101  ...   3.901033 -23.373910   \n1821 -62.499976  22.119515  14.885649  -2.937969  ...  13.600511  -4.850673   \n1822 -16.931145  34.517105  18.061085  12.129647  ...  -9.085684  -7.279893   \n1823  -8.875421  16.328458  12.463354  -1.906690  ...   9.001427  -0.780144   \n\n            195       196        197        198        199        200  \\\n0      0.080910  0.375347  -0.454238  -0.518405   1.426334   2.182644   \n1      0.121885  0.403650  -0.435799  -0.570529   1.385562   2.204678   \n2      0.091379  0.359836  -0.482373  -0.588050   1.401923   2.240951   \n3      0.101057  0.410288  -0.455461  -0.541990   1.460564   2.146773   \n4      0.115383  0.329856  -0.472310  -0.502434   1.437395   2.191698   \n...         ...       ...        ...        ...        ...        ...   \n1819   7.926100 -5.585449  11.667149 -14.122488  -3.588444   1.823093   \n1820   3.612246  6.300962  -3.231341  -0.796622  -2.808663  20.964061   \n1821   7.293286 -5.890819  11.822259  -7.822333 -20.584790  21.346809   \n1822  19.399398  2.193473   1.551502  -1.891928 -24.287589   9.248219   \n1823 -21.873180  1.202998  17.329095  19.233231  25.484319 -14.752123   \n\n            201        202  \n0      0.009885  -1.309071  \n1      0.021310  -1.252997  \n2     -0.015752  -1.166439  \n3     -0.006432  -1.324044  \n4      0.012258  -1.318657  \n...         ...        ...  \n1819 -14.097295  12.795439  \n1820  21.341616 -14.733299  \n1821   1.026828 -22.151720  \n1822  -2.366426   9.531351  \n1823 -12.685886   6.578039  \n\n[1824 rows x 203 columns]",
      "text/html": "<div>\n<style scoped>\n    .dataframe tbody tr th:only-of-type {\n        vertical-align: middle;\n    }\n\n    .dataframe tbody tr th {\n        vertical-align: top;\n    }\n\n    .dataframe thead th {\n        text-align: right;\n    }\n</style>\n<table border=\"1\" class=\"dataframe\">\n  <thead>\n    <tr style=\"text-align: right;\">\n      <th></th>\n      <th>0</th>\n      <th>1</th>\n      <th>2</th>\n      <th>3</th>\n      <th>4</th>\n      <th>5</th>\n      <th>6</th>\n      <th>7</th>\n      <th>8</th>\n      <th>9</th>\n      <th>...</th>\n      <th>193</th>\n      <th>194</th>\n      <th>195</th>\n      <th>196</th>\n      <th>197</th>\n      <th>198</th>\n      <th>199</th>\n      <th>200</th>\n      <th>201</th>\n      <th>202</th>\n    </tr>\n  </thead>\n  <tbody>\n    <tr>\n      <th>0</th>\n      <td>121.741276</td>\n      <td>-18.532317</td>\n      <td>-18.233717</td>\n      <td>21.990107</td>\n      <td>23.721718</td>\n      <td>0.265593</td>\n      <td>5.337134</td>\n      <td>-0.598922</td>\n      <td>-5.842693</td>\n      <td>-62.848456</td>\n      <td>...</td>\n      <td>0.612035</td>\n      <td>-0.527682</td>\n      <td>0.080910</td>\n      <td>0.375347</td>\n      <td>-0.454238</td>\n      <td>-0.518405</td>\n      <td>1.426334</td>\n      <td>2.182644</td>\n      <td>0.009885</td>\n      <td>-1.309071</td>\n    </tr>\n    <tr>\n      <th>1</th>\n      <td>122.041239</td>\n      <td>-18.488867</td>\n      <td>-18.113113</td>\n      <td>22.451534</td>\n      <td>23.324605</td>\n      <td>0.236997</td>\n      <td>5.292676</td>\n      <td>-0.614789</td>\n      <td>-5.879359</td>\n      <td>-62.755095</td>\n      <td>...</td>\n      <td>0.595439</td>\n      <td>-0.506615</td>\n      <td>0.121885</td>\n      <td>0.403650</td>\n      <td>-0.435799</td>\n      <td>-0.570529</td>\n      <td>1.385562</td>\n      <td>2.204678</td>\n      <td>0.021310</td>\n      <td>-1.252997</td>\n    </tr>\n    <tr>\n      <th>2</th>\n      <td>121.872674</td>\n      <td>-18.526802</td>\n      <td>-18.091153</td>\n      <td>22.649315</td>\n      <td>23.351816</td>\n      <td>0.270824</td>\n      <td>5.305729</td>\n      <td>-0.623641</td>\n      <td>-5.835910</td>\n      <td>-62.671009</td>\n      <td>...</td>\n      <td>0.571297</td>\n      <td>-0.537637</td>\n      <td>0.091379</td>\n      <td>0.359836</td>\n      <td>-0.482373</td>\n      <td>-0.588050</td>\n      <td>1.401923</td>\n      <td>2.240951</td>\n      <td>-0.015752</td>\n      <td>-1.166439</td>\n    </tr>\n    <tr>\n      <th>3</th>\n      <td>121.944404</td>\n      <td>-18.780667</td>\n      <td>-18.118332</td>\n      <td>22.632365</td>\n      <td>23.383787</td>\n      <td>0.285732</td>\n      <td>5.327630</td>\n      <td>-0.594685</td>\n      <td>-5.850094</td>\n      <td>-62.537639</td>\n      <td>...</td>\n      <td>0.550011</td>\n      <td>-0.459967</td>\n      <td>0.101057</td>\n      <td>0.410288</td>\n      <td>-0.455461</td>\n      <td>-0.541990</td>\n      <td>1.460564</td>\n      <td>2.146773</td>\n      <td>-0.006432</td>\n      <td>-1.324044</td>\n    </tr>\n    <tr>\n      <th>4</th>\n      <td>121.850191</td>\n      <td>-18.804005</td>\n      <td>-18.025001</td>\n      <td>22.572894</td>\n      <td>23.593152</td>\n      <td>0.259667</td>\n      <td>5.335662</td>\n      <td>-0.613675</td>\n      <td>-5.842390</td>\n      <td>-62.549254</td>\n      <td>...</td>\n      <td>0.515170</td>\n      <td>-0.461316</td>\n      <td>0.115383</td>\n      <td>0.329856</td>\n      <td>-0.472310</td>\n      <td>-0.502434</td>\n      <td>1.437395</td>\n      <td>2.191698</td>\n      <td>0.012258</td>\n      <td>-1.318657</td>\n    </tr>\n    <tr>\n      <th>...</th>\n      <td>...</td>\n      <td>...</td>\n      <td>...</td>\n      <td>...</td>\n      <td>...</td>\n      <td>...</td>\n      <td>...</td>\n      <td>...</td>\n      <td>...</td>\n      <td>...</td>\n      <td>...</td>\n      <td>...</td>\n      <td>...</td>\n      <td>...</td>\n      <td>...</td>\n      <td>...</td>\n      <td>...</td>\n      <td>...</td>\n      <td>...</td>\n      <td>...</td>\n      <td>...</td>\n    </tr>\n    <tr>\n      <th>1819</th>\n      <td>-88.433229</td>\n      <td>25.004018</td>\n      <td>-23.990770</td>\n      <td>-11.103473</td>\n      <td>11.533247</td>\n      <td>5.345518</td>\n      <td>-21.754606</td>\n      <td>10.184293</td>\n      <td>-0.525775</td>\n      <td>-23.073820</td>\n      <td>...</td>\n      <td>2.340520</td>\n      <td>12.860884</td>\n      <td>7.926100</td>\n      <td>-5.585449</td>\n      <td>11.667149</td>\n      <td>-14.122488</td>\n      <td>-3.588444</td>\n      <td>1.823093</td>\n      <td>-14.097295</td>\n      <td>12.795439</td>\n    </tr>\n    <tr>\n      <th>1820</th>\n      <td>-68.281484</td>\n      <td>-27.633038</td>\n      <td>2.307251</td>\n      <td>-1.350261</td>\n      <td>5.669564</td>\n      <td>-2.477249</td>\n      <td>-9.057184</td>\n      <td>11.760181</td>\n      <td>8.734326</td>\n      <td>-0.488101</td>\n      <td>...</td>\n      <td>3.901033</td>\n      <td>-23.373910</td>\n      <td>3.612246</td>\n      <td>6.300962</td>\n      <td>-3.231341</td>\n      <td>-0.796622</td>\n      <td>-2.808663</td>\n      <td>20.964061</td>\n      <td>21.341616</td>\n      <td>-14.733299</td>\n    </tr>\n    <tr>\n      <th>1821</th>\n      <td>-53.621818</td>\n      <td>-28.630010</td>\n      <td>28.423740</td>\n      <td>-23.917304</td>\n      <td>5.035024</td>\n      <td>-116.018057</td>\n      <td>-62.499976</td>\n      <td>22.119515</td>\n      <td>14.885649</td>\n      <td>-2.937969</td>\n      <td>...</td>\n      <td>13.600511</td>\n      <td>-4.850673</td>\n      <td>7.293286</td>\n      <td>-5.890819</td>\n      <td>11.822259</td>\n      <td>-7.822333</td>\n      <td>-20.584790</td>\n      <td>21.346809</td>\n      <td>1.026828</td>\n      <td>-22.151720</td>\n    </tr>\n    <tr>\n      <th>1822</th>\n      <td>-51.191511</td>\n      <td>-21.206067</td>\n      <td>11.404257</td>\n      <td>-21.908929</td>\n      <td>4.032080</td>\n      <td>-0.845348</td>\n      <td>-16.931145</td>\n      <td>34.517105</td>\n      <td>18.061085</td>\n      <td>12.129647</td>\n      <td>...</td>\n      <td>-9.085684</td>\n      <td>-7.279893</td>\n      <td>19.399398</td>\n      <td>2.193473</td>\n      <td>1.551502</td>\n      <td>-1.891928</td>\n      <td>-24.287589</td>\n      <td>9.248219</td>\n      <td>-2.366426</td>\n      <td>9.531351</td>\n    </tr>\n    <tr>\n      <th>1823</th>\n      <td>-37.700186</td>\n      <td>-11.612088</td>\n      <td>29.135858</td>\n      <td>-23.294050</td>\n      <td>-1.305801</td>\n      <td>14.299637</td>\n      <td>-8.875421</td>\n      <td>16.328458</td>\n      <td>12.463354</td>\n      <td>-1.906690</td>\n      <td>...</td>\n      <td>9.001427</td>\n      <td>-0.780144</td>\n      <td>-21.873180</td>\n      <td>1.202998</td>\n      <td>17.329095</td>\n      <td>19.233231</td>\n      <td>25.484319</td>\n      <td>-14.752123</td>\n      <td>-12.685886</td>\n      <td>6.578039</td>\n    </tr>\n  </tbody>\n</table>\n<p>1824 rows × 203 columns</p>\n</div>"
     },
     "execution_count": 9,
     "metadata": {},
     "output_type": "execute_result"
    }
   ],
   "source": [
    "pd.DataFrame(PCA_evaluation_data)"
   ],
   "metadata": {
    "collapsed": false,
    "ExecuteTime": {
     "end_time": "2024-03-27T05:33:27.546633100Z",
     "start_time": "2024-03-27T05:33:27.527436800Z"
    }
   },
   "id": "3d0aa057dc1807cb"
  },
  {
   "cell_type": "markdown",
   "source": [
    "# Kmeans Clustering implementation"
   ],
   "metadata": {
    "collapsed": false
   },
   "id": "921b45fab9039192"
  },
  {
   "cell_type": "code",
   "outputs": [],
   "source": [
    "class Kmeans:\n",
    "    def __init__(self, n_clusters, max_iter=300, tol=1e-4):\n",
    "        self.centroids = None\n",
    "        self.cluster_centers_ = None\n",
    "        self.clusters = None\n",
    "        self.n_clusters = n_clusters\n",
    "        self.max_iter = max_iter\n",
    "        self.tol = tol\n",
    "        self.inertia_ = None\n",
    "        np.random.seed(42)\n",
    "\n",
    "    def fit(self, data):\n",
    "        # Initialize centroids randomly\n",
    "        clusters = None\n",
    "        centroids_idx = np.random.choice(data.shape[0], self.n_clusters, replace=False)\n",
    "        self.centroids = data[centroids_idx]\n",
    "\n",
    "        for _ in range(self.max_iter):\n",
    "            # Assignment step\n",
    "            distances = np.linalg.norm(data[:, None] - self.centroids, axis=2)\n",
    "            clusters = np.argmin(distances, axis=1)\n",
    "\n",
    "            # Update step\n",
    "            new_centroids = np.array([data[clusters == k].mean(axis=0) for k in range(self.n_clusters)])\n",
    "\n",
    "            # Check convergence\n",
    "            if np.linalg.norm(new_centroids - self.centroids) < self.tol:\n",
    "                break\n",
    "\n",
    "            self.centroids = new_centroids\n",
    "\n",
    "        self.clusters = clusters\n",
    "        self.cluster_centers_ = self.centroids\n",
    "\n",
    "        # Calculate inertia\n",
    "        self.inertia_ = self._calculate_inertia(data)\n",
    "\n",
    "    def _calculate_inertia(self, data):\n",
    "        inertia = 0\n",
    "        for i in range(self.n_clusters):\n",
    "            cluster_points = data[self.clusters == i]\n",
    "            distances = np.linalg.norm(cluster_points - self.centroids[i], axis=1)\n",
    "            inertia += np.sum(distances**2)\n",
    "        return inertia\n",
    "\n",
    "    def predict(self, data):\n",
    "        distances = np.linalg.norm(data[:, None] - self.centroids, axis=2)\n",
    "        return np.argmin(distances, axis=1)"
   ],
   "metadata": {
    "collapsed": false,
    "ExecuteTime": {
     "end_time": "2024-03-27T05:33:30.010632300Z",
     "start_time": "2024-03-27T05:33:29.999990100Z"
    }
   },
   "id": "ed417a9321c561b4",
   "execution_count": 10
  },
  {
   "cell_type": "markdown",
   "source": [
    "# Applying Kmeans Clustering on the first approach"
   ],
   "metadata": {
    "collapsed": false
   },
   "id": "36e2f65048d0b5b"
  },
  {
   "cell_type": "code",
   "outputs": [
    {
     "name": "stdout",
     "output_type": "stream",
     "text": [
      "Silhouette Score: 0.35892213171734255\n",
      "Inertia: 324109.7508641\n",
      "Silhouette Score: 0.22023485750932156\n",
      "Inertia: 288135.5958715988\n",
      "Silhouette Score: 0.24060869435078833\n",
      "Inertia: 233134.26140297746\n",
      "Silhouette Score: 0.25838600335001854\n",
      "Inertia: 199987.1058726213\n",
      "Silhouette Score: 0.27097308165585815\n",
      "Inertia: 170803.89469508437\n"
     ]
    }
   ],
   "source": [
    "Ks = [8, 13, 19, 28, 38]\n",
    "means_score = []\n",
    "means_inertia = []\n",
    "for K in Ks:\n",
    "    kmeans = Kmeans(n_clusters=K)\n",
    "    kmeans.fit(training_data_means)\n",
    "    means_score.append(metrics.silhouette_score(training_data_means, kmeans.clusters, metric='euclidean'))\n",
    "    means_inertia.append(kmeans.inertia_)\n",
    "    print(\"Silhouette Score:\", means_score[-1])\n",
    "    print(\"Inertia:\", kmeans.inertia_)"
   ],
   "metadata": {
    "collapsed": false,
    "ExecuteTime": {
     "end_time": "2024-03-27T05:33:39.332807500Z",
     "start_time": "2024-03-27T05:33:32.890628600Z"
    }
   },
   "id": "293cd5374ba33439",
   "execution_count": 11
  },
  {
   "cell_type": "markdown",
   "source": [
    "# Applying Kmeans Clustering on the second approach"
   ],
   "metadata": {
    "collapsed": false
   },
   "id": "1c50397fbe486c1c"
  },
  {
   "cell_type": "code",
   "outputs": [
    {
     "name": "stdout",
     "output_type": "stream",
     "text": [
      "Silhouette Score: 0.2509339335014632\n",
      "Inertia: 174824842.69994703\n",
      "Silhouette Score: 0.13053636052496012\n",
      "Inertia: 165918128.09907818\n",
      "Silhouette Score: 0.11088328254614487\n",
      "Inertia: 151515426.20377624\n",
      "Silhouette Score: 0.08083859543018268\n",
      "Inertia: 145472109.546777\n",
      "Silhouette Score: 0.0764871792791388\n",
      "Inertia: 134911287.8497042\n"
     ]
    }
   ],
   "source": [
    "reduce_score = []\n",
    "reduce_inertia = []\n",
    "for K in Ks:\n",
    "    kmeans = Kmeans(n_clusters=K)\n",
    "    kmeans.fit(PCA_training_data)\n",
    "    reduce_score.append(metrics.silhouette_score(PCA_training_data, kmeans.clusters, metric='euclidean'))\n",
    "    reduce_inertia.append(kmeans.inertia_)\n",
    "    print(\"Silhouette Score:\", reduce_score[-1])\n",
    "    print(\"Inertia:\", kmeans.inertia_)"
   ],
   "metadata": {
    "collapsed": false,
    "ExecuteTime": {
     "end_time": "2024-03-27T05:34:24.844374100Z",
     "start_time": "2024-03-27T05:33:41.634139400Z"
    }
   },
   "id": "8221cfdfd213ea1d",
   "execution_count": 12
  },
  {
   "cell_type": "markdown",
   "source": [
    "# Plotting the results"
   ],
   "metadata": {
    "collapsed": false
   },
   "id": "9d86fd16c6cd6a2e"
  },
  {
   "cell_type": "markdown",
   "source": [
    "## Silhouette Score vs Number of Clusters"
   ],
   "metadata": {
    "collapsed": false
   },
   "id": "944b21b66f9a1a42"
  },
  {
   "cell_type": "code",
   "outputs": [
    {
     "data": {
      "text/plain": "<Figure size 1200x600 with 1 Axes>",
      "image/png": "[encoded data removed]"
     },
     "metadata": {},
     "output_type": "display_data"
    }
   ],
   "source": [
    "plt.figure(figsize=(12, 6))\n",
    "plt.subplot(1, 2, 1)\n",
    "plt.plot(Ks, means_score, marker='o', label='Mean Data')\n",
    "plt.plot(Ks, reduce_score, marker='x', label='PCA Data')\n",
    "plt.xlabel('Number of Clusters')\n",
    "plt.ylabel('Silhouette Score')\n",
    "plt.title('Silhouette Score vs Number of Clusters')\n",
    "plt.show()"
   ],
   "metadata": {
    "collapsed": false,
    "ExecuteTime": {
     "end_time": "2024-03-27T05:34:27.517660200Z",
     "start_time": "2024-03-27T05:34:27.400934300Z"
    }
   },
   "id": "8f1e3d9ecc2f74a4",
   "execution_count": 13
  },
  {
   "cell_type": "markdown",
   "source": [
    "From the plot, we see that the silhouette score is higher for the mean data compared to the PCA data. This indicates that the mean data is more suitable for clustering compared to the PCA data. The silhouette score is highest for 38 clusters in mean data case while the highest for 8 clusters in the PCA data case."
   ],
   "metadata": {
    "collapsed": false
   },
   "id": "eebfd580b0d5a63f"
  },
  {
   "cell_type": "markdown",
   "source": [
    "## Inertia vs Number of Clusters"
   ],
   "metadata": {
    "collapsed": false
   },
   "id": "29246aeeca2bda13"
  },
  {
   "cell_type": "code",
   "outputs": [
    {
     "data": {
      "text/plain": "<Figure size 1200x600 with 1 Axes>",
      "image/png": "[encoded data removed]"
     },
     "metadata": {},
     "output_type": "display_data"
    }
   ],
   "source": [
    "plt.figure(figsize=(12, 6))\n",
    "plt.subplot(1, 2, 2)\n",
    "plt.plot(Ks, means_inertia, marker='o', label='Mean Data')\n",
    "plt.plot(Ks, reduce_inertia, marker='x', label='PCA Data')\n",
    "plt.xlabel('Number of Clusters')\n",
    "plt.ylabel('Inertia')\n",
    "plt.title('Inertia vs Number of Clusters')\n",
    "plt.show()"
   ],
   "metadata": {
    "collapsed": false,
    "ExecuteTime": {
     "end_time": "2024-03-27T05:34:30.356472200Z",
     "start_time": "2024-03-27T05:34:30.261065200Z"
    }
   },
   "id": "bdede66b7f9db06b",
   "execution_count": 14
  },
  {
   "cell_type": "markdown",
   "source": [
    "From the plot, we see that the inertia is higher for the PCA data compared to the mean data. This indicates that the mean data is more suitable for clustering compared to the PCA data. The inertia is highest for eight clusters in both cases."
   ],
   "metadata": {
    "collapsed": false
   },
   "id": "cf4592368e99162"
  },
  {
   "cell_type": "markdown",
   "source": [
    "# Conclusion"
   ],
   "metadata": {
    "collapsed": false
   },
   "id": "9a9b5acb31c3e90d"
  },
  {
   "cell_type": "markdown",
   "source": [
    "We observed that the mean data is more suitable for clustering compared to the PCA data because of the following:\n",
    "1- The silhouette score is higher for the mean data compared to the PCA data.\n",
    "2- The inertia is lower for the mean data compared to the PCA data."
   ],
   "metadata": {
    "collapsed": false
   },
   "id": "6b72c5b46e5a4a8f"
  },
  {
   "cell_type": "markdown",
   "source": [
    "# Evaluation"
   ],
   "metadata": {
    "collapsed": false
   },
   "id": "6117ec7bc98f93b7"
  },
  {
   "cell_type": "markdown",
   "source": [
    "## Purity"
   ],
   "metadata": {
    "collapsed": false
   },
   "id": "d46a0363fe74871e"
  },
  {
   "cell_type": "code",
   "execution_count": 15,
   "outputs": [
    {
     "name": "stdout",
     "output_type": "stream",
     "text": [
      "Training data + Means approach\n",
      "# clusters = 8: 0.3279879385964912\n",
      "# clusters = 13: 0.4076206140350877\n",
      "# clusters = 19: 0.47341008771929827\n",
      "# clusters = 28: 0.5235745614035088\n",
      "# clusters = 38: 0.5630482456140351\n",
      "Training data + PCA approach\n",
      "# clusters = 8: 0.3086622807017544\n",
      "# clusters = 13: 0.35759320175438597\n",
      "# clusters = 19: 0.4805372807017544\n",
      "# clusters = 28: 0.5379660087719298\n",
      "# clusters = 38: 0.5441337719298246\n",
      "Evaluation data + Means approach\n",
      "# clusters = 8: 0.27521929824561403\n",
      "# clusters = 13: 0.3744517543859649\n",
      "# clusters = 19: 0.4155701754385965\n",
      "# clusters = 28: 0.5449561403508771\n",
      "# clusters = 38: 0.5581140350877193\n",
      "Evaluation data + PCA approach\n",
      "# clusters = 8: 0.2680921052631579\n",
      "# clusters = 13: 0.3092105263157895\n",
      "# clusters = 19: 0.37774122807017546\n",
      "# clusters = 28: 0.43969298245614036\n",
      "# clusters = 38: 0.49122807017543857\n"
     ]
    }
   ],
   "source": [
    "# Training data + Means approach\n",
    "print(\"Training data + Means approach\")\n",
    "for K in Ks:\n",
    "    kmeans = Kmeans(n_clusters=K)\n",
    "    kmeans.fit(training_data_means)\n",
    "    print(f'# clusters = {K}:', compute_purity(compute_clusters(training_labels, kmeans.clusters, K), len(training_data_means)))\n",
    "    \n",
    "# Training data + PCA approach\n",
    "print(\"Training data + PCA approach\")\n",
    "for K in Ks:\n",
    "    kmeans = Kmeans(n_clusters=K)\n",
    "    kmeans.fit(PCA_training_data)\n",
    "    print(f'# clusters = {K}:', compute_purity(compute_clusters(training_labels, kmeans.clusters, K), len(PCA_training_data)))\n",
    "    \n",
    "# Evaluation data + Means approach\n",
    "print(\"Evaluation data + Means approach\")\n",
    "for K in Ks:\n",
    "    kmeans = Kmeans(n_clusters=K)\n",
    "    kmeans.fit(evaluation_data_means)\n",
    "    print(f'# clusters = {K}:', compute_purity(compute_clusters(evaluation_labels, kmeans.clusters, K), len(evaluation_data_means)))\n",
    "    \n",
    "# Evaluation data + PCA approach\n",
    "print(\"Evaluation data + PCA approach\")\n",
    "for K in Ks:\n",
    "    kmeans = Kmeans(n_clusters=K)\n",
    "    kmeans.fit(PCA_evaluation_data)\n",
    "    print(f'# clusters = {K}:', compute_purity(compute_clusters(evaluation_labels, kmeans.clusters, K), len(PCA_evaluation_data)))"
   ],
   "metadata": {
    "collapsed": false,
    "ExecuteTime": {
     "end_time": "2024-03-27T05:35:19.673758200Z",
     "start_time": "2024-03-27T05:34:33.494194400Z"
    }
   },
   "id": "7c9ebd273c0e8feb"
  },
  {
   "cell_type": "markdown",
   "source": [
    "## Recall"
   ],
   "metadata": {
    "collapsed": false
   },
   "id": "abff2bbd149d50ce"
  },
  {
   "cell_type": "code",
   "execution_count": 16,
   "outputs": [
    {
     "name": "stdout",
     "output_type": "stream",
     "text": [
      "Training data + Means approach\n",
      "# clusters = 8: 0.8797350431743421\n",
      "# clusters = 13: 0.6371713381761696\n",
      "# clusters = 19: 0.5431015282346491\n",
      "# clusters = 28: 0.3968006156341375\n",
      "# clusters = 38: 0.32294950429459063\n",
      "Training data + PCA approach\n",
      "# clusters = 8: 0.9046891418813963\n",
      "# clusters = 13: 0.7757297092013891\n",
      "# clusters = 19: 0.6952354029605263\n",
      "# clusters = 28: 0.5247220937271564\n",
      "# clusters = 38: 0.4645706979851972\n",
      "Evaluation data + Means approach\n",
      "# clusters = 8: 0.7667214912280701\n",
      "# clusters = 13: 0.6331551535087719\n",
      "# clusters = 19: 0.5760747898391814\n",
      "# clusters = 28: 0.5172126279239766\n",
      "# clusters = 38: 0.38851768092105254\n",
      "Evaluation data + PCA approach\n",
      "# clusters = 8: 0.9238566794590644\n",
      "# clusters = 13: 0.7623640807748538\n",
      "# clusters = 19: 0.7323647660818712\n",
      "# clusters = 28: 0.5577028508771931\n",
      "# clusters = 38: 0.4880528143274853\n"
     ]
    }
   ],
   "source": [
    "# Training data + Means approach\n",
    "print(\"Training data + Means approach\")\n",
    "for K in Ks:\n",
    "    kmeans = Kmeans(n_clusters=K)\n",
    "    kmeans.fit(training_data_means)\n",
    "    print(f'# clusters = {K}:', compute_recall(compute_clusters(training_labels, kmeans.clusters, K), len(training_data_means)))\n",
    "    \n",
    "# Training data + PCA approach\n",
    "print(\"Training data + PCA approach\")\n",
    "for K in Ks:\n",
    "    kmeans = Kmeans(n_clusters=K)\n",
    "    kmeans.fit(PCA_training_data)\n",
    "    print(f'# clusters = {K}:', compute_recall(compute_clusters(training_labels, kmeans.clusters, K), len(PCA_training_data)))\n",
    "    \n",
    "# Evaluation data + Means approach\n",
    "print(\"Evaluation data + Means approach\")\n",
    "for K in Ks:\n",
    "    kmeans = Kmeans(n_clusters=K)\n",
    "    kmeans.fit(evaluation_data_means)\n",
    "    print(f'# clusters = {K}:', compute_recall(compute_clusters(evaluation_labels, kmeans.clusters, K), len(evaluation_data_means)))\n",
    "    \n",
    "# Evaluation data + PCA approach\n",
    "print(\"Evaluation data + PCA approach\")\n",
    "for K in Ks:\n",
    "    kmeans = Kmeans(n_clusters=K)\n",
    "    kmeans.fit(PCA_evaluation_data)\n",
    "    print(f'# clusters = {K}:', compute_recall(compute_clusters(evaluation_labels, kmeans.clusters, K), len(PCA_evaluation_data)))"
   ],
   "metadata": {
    "collapsed": false,
    "ExecuteTime": {
     "end_time": "2024-03-27T05:36:08.185137300Z",
     "start_time": "2024-03-27T05:35:21.832239100Z"
    }
   },
   "id": "7a7b105e62f051be"
  },
  {
   "cell_type": "markdown",
   "source": [
    "## F1 Score"
   ],
   "metadata": {
    "collapsed": false
   },
   "id": "cb9b4600b1f14b81"
  },
  {
   "cell_type": "code",
   "execution_count": 17,
   "outputs": [
    {
     "name": "stdout",
     "output_type": "stream",
     "text": [
      "Training data + Means approach\n",
      "# clusters = 8: 0.5437880872941433\n",
      "# clusters = 13: 0.4958593172880389\n",
      "# clusters = 19: 0.46947510663436764\n",
      "# clusters = 28: 0.4178703011094366\n",
      "# clusters = 38: 0.36638745995286065\n",
      "Training data + PCA approach\n",
      "# clusters = 8: 0.5184584942028571\n",
      "# clusters = 13: 0.42423343766062493\n",
      "# clusters = 19: 0.46020589602873213\n",
      "# clusters = 28: 0.4040060094460064\n",
      "# clusters = 38: 0.3221525855915172\n",
      "Evaluation data + Means approach\n",
      "# clusters = 8: 0.4085037139384505\n",
      "# clusters = 13: 0.44855185791791974\n",
      "# clusters = 19: 0.3980341720703979\n",
      "# clusters = 28: 0.40747521442487683\n",
      "# clusters = 38: 0.34843010205968994\n",
      "Evaluation data + PCA approach\n",
      "# clusters = 8: 0.3848286665742672\n",
      "# clusters = 13: 0.33818524198522965\n",
      "# clusters = 19: 0.32782832425031394\n",
      "# clusters = 28: 0.3072829215976078\n",
      "# clusters = 38: 0.284051616602323\n"
     ]
    }
   ],
   "source": [
    "# Training data + Means approach\n",
    "print(\"Training data + Means approach\")\n",
    "for K in Ks:\n",
    "    kmeans = Kmeans(n_clusters=K)\n",
    "    kmeans.fit(training_data_means)\n",
    "    print(f'# clusters = {K}:', compute_f1(compute_clusters(training_labels, kmeans.clusters, K)))\n",
    "    \n",
    "# Training data + PCA approach\n",
    "print(\"Training data + PCA approach\")\n",
    "for K in Ks:\n",
    "    kmeans = Kmeans(n_clusters=K)\n",
    "    kmeans.fit(PCA_training_data)\n",
    "    print(f'# clusters = {K}:', compute_f1(compute_clusters(training_labels, kmeans.clusters, K)))\n",
    "    \n",
    "# Evaluation data + Means approach\n",
    "print(\"Evaluation data + Means approach\")\n",
    "for K in Ks:\n",
    "    kmeans = Kmeans(n_clusters=K)\n",
    "    kmeans.fit(evaluation_data_means)\n",
    "    print(f'# clusters = {K}:', compute_f1(compute_clusters(evaluation_labels, kmeans.clusters, K)))\n",
    "    \n",
    "# Evaluation data + PCA approach\n",
    "print(\"Evaluation data + PCA approach\")\n",
    "for K in Ks:\n",
    "    kmeans = Kmeans(n_clusters=K)\n",
    "    kmeans.fit(PCA_evaluation_data)\n",
    "    print(f'# clusters = {K}:', compute_f1(compute_clusters(evaluation_labels, kmeans.clusters, K)))"
   ],
   "metadata": {
    "collapsed": false,
    "ExecuteTime": {
     "end_time": "2024-03-27T05:37:03.607542Z",
     "start_time": "2024-03-27T05:36:17.460375100Z"
    }
   },
   "id": "157a4c611644abab"
  },
  {
   "cell_type": "markdown",
   "source": [
    "## Conditional Entropy"
   ],
   "metadata": {
    "collapsed": false
   },
   "id": "8e877d19903ce813"
  },
  {
   "cell_type": "code",
   "execution_count": 18,
   "outputs": [
    {
     "name": "stdout",
     "output_type": "stream",
     "text": [
      "Training data + Means approach\n",
      "# clusters = 8: 2.457290605015856\n",
      "# clusters = 13: 2.2102921038422467\n",
      "# clusters = 19: 1.934487866581744\n",
      "# clusters = 28: 1.6361391621300534\n",
      "# clusters = 38: 1.441075298568206\n",
      "Training data + PCA approach\n",
      "# clusters = 8: 2.4595164750992655\n",
      "# clusters = 13: 2.3144107896507724\n",
      "# clusters = 19: 1.941594175356723\n",
      "# clusters = 28: 1.7257213836228364\n",
      "# clusters = 38: 1.6776122696815992\n",
      "Evaluation data + Means approach\n",
      "# clusters = 8: 2.5858441193469544\n",
      "# clusters = 13: 2.182752342912512\n",
      "# clusters = 19: 1.9191746523852296\n",
      "# clusters = 28: 1.567984982877335\n",
      "# clusters = 38: 1.4282460529955816\n",
      "Evaluation data + PCA approach\n",
      "# clusters = 8: 2.6168910918310724\n",
      "# clusters = 13: 2.443865096510289\n",
      "# clusters = 19: 2.1938013707753443\n",
      "# clusters = 28: 1.9909577222294312\n",
      "# clusters = 38: 1.7604400983784387\n"
     ]
    }
   ],
   "source": [
    "# Training data + Means approach\n",
    "print(\"Training data + Means approach\")\n",
    "for K in Ks:\n",
    "    kmeans = Kmeans(n_clusters=K)\n",
    "    kmeans.fit(training_data_means)\n",
    "    print(f'# clusters = {K}:', compute_entropy(compute_clusters(training_labels, kmeans.clusters, K), len(training_data_means)))\n",
    "    \n",
    "# Training data + PCA approach\n",
    "print(\"Training data + PCA approach\")\n",
    "for K in Ks:\n",
    "    kmeans = Kmeans(n_clusters=K)\n",
    "    kmeans.fit(PCA_training_data)\n",
    "    print(f'# clusters = {K}:', compute_entropy(compute_clusters(training_labels, kmeans.clusters, K), len(PCA_training_data)))\n",
    "    \n",
    "# Evaluation data + Means approach\n",
    "print(\"Evaluation data + Means approach\")\n",
    "for K in Ks:\n",
    "    kmeans = Kmeans(n_clusters=K)\n",
    "    kmeans.fit(evaluation_data_means)\n",
    "    print(f'# clusters = {K}:', compute_entropy(compute_clusters(evaluation_labels, kmeans.clusters, K), len(evaluation_data_means)))\n",
    "    \n",
    "# Evaluation data + PCA approach\n",
    "print(\"Evaluation data + PCA approach\")\n",
    "for K in Ks:\n",
    "    kmeans = Kmeans(n_clusters=K)\n",
    "    kmeans.fit(PCA_evaluation_data)\n",
    "    print(f'# clusters = {K}:', compute_entropy(compute_clusters(evaluation_labels, kmeans.clusters, K), len(PCA_evaluation_data)))"
   ],
   "metadata": {
    "collapsed": false,
    "ExecuteTime": {
     "end_time": "2024-03-27T05:38:33.032981500Z",
     "start_time": "2024-03-27T05:37:47.355398200Z"
    }
   },
   "id": "d66c6ff9fb6a331c"
  }
 ],
 "metadata": {
  "kernelspec": {
   "display_name": "Python 3",
   "language": "python",
   "name": "python3"
  },
  "language_info": {
   "codemirror_mode": {
    "name": "ipython",
    "version": 2
   },
   "file_extension": ".py",
   "mimetype": "text/x-python",
   "name": "python",
   "nbconvert_exporter": "python",
   "pygments_lexer": "ipython2",
   "version": "2.7.6"
  }
 },
 "nbformat": 4,
 "nbformat_minor": 5
}

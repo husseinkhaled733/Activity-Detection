{
 "cells": [
  {
   "cell_type": "markdown",
   "source": [
    "# Reading Data from Text Files"
   ],
   "metadata": {
    "collapsed": false
   },
   "id": "3d7ce0160fbad2ec"
  },
  {
   "cell_type": "code",
   "outputs": [],
   "source": [
    "import os\n",
    "import numpy as np\n",
    "import pandas as pd\n",
    "from sklearn import metrics\n",
    "from sklearn.decomposition import PCA\n",
    "import matplotlib.pyplot as plt\n",
    "from Evaluation import compute_clusters, compute_purity, compute_recall, compute_f1, compute_entropy"
   ],
   "metadata": {
    "collapsed": false,
    "ExecuteTime": {
     "end_time": "2024-03-27T13:06:55.368841Z",
     "start_time": "2024-03-27T13:06:47.533014Z"
    }
   },
   "id": "b515a3ce6b5657a",
   "execution_count": 1
  },
  {
   "cell_type": "markdown",
   "source": [
    "# Reading Data from Text Files"
   ],
   "metadata": {
    "collapsed": false
   },
   "id": "e52467810d2bd3c1"
  },
  {
   "cell_type": "code",
   "outputs": [
    {
     "name": "stdout",
     "output_type": "stream",
     "text": [
      "Activity Number: 11\n",
      "Activity: a11\n",
      "Activity Number: 13\n",
      "Activity: a13\n",
      "Activity Number: 18\n",
      "Activity: a18\n",
      "Activity Number: 3\n",
      "Activity: a03\n",
      "Activity Number: 5\n",
      "Activity: a05\n",
      "Activity Number: 4\n",
      "Activity: a04\n",
      "Activity Number: 19\n",
      "Activity: a19\n",
      "Activity Number: 6\n",
      "Activity: a06\n",
      "Activity Number: 7\n",
      "Activity: a07\n",
      "Activity Number: 8\n",
      "Activity: a08\n",
      "Activity Number: 2\n",
      "Activity: a02\n",
      "Activity Number: 1\n",
      "Activity: a01\n",
      "Activity Number: 12\n",
      "Activity: a12\n",
      "Activity Number: 15\n",
      "Activity: a15\n",
      "Activity Number: 17\n",
      "Activity: a17\n",
      "Activity Number: 14\n",
      "Activity: a14\n",
      "Activity Number: 16\n",
      "Activity: a16\n",
      "Activity Number: 10\n",
      "Activity: a10\n",
      "Activity Number: 9\n",
      "Activity: a09\n"
     ]
    }
   ],
   "source": [
    "data_directory = \"/home/hussein/PatternDatasets/Activities\"\n",
    "training_data_means = []\n",
    "evaluation_data_means = []\n",
    "flattened_training_data = []\n",
    "flattened_evaluation_data = []\n",
    "training_labels = []\n",
    "evaluation_labels = []\n",
    "\n",
    "# Step 1: Accessing the Data Directory\n",
    "activities = os.listdir(data_directory)\n",
    "\n",
    "# Step 2: Iterating Through Activity Folders\n",
    "for activity in activities:\n",
    "    activity_path = os.path.join(data_directory, activity)\n",
    "    activity_number = int(activity.split(\"a\")[1])\n",
    "    \n",
    "    print(\"Activity Number:\", activity_number)\n",
    "    print(\"Activity:\", activity)\n",
    "    # Assigning labels\n",
    "    training_labels.extend([activity_number] * 48 * 8) \n",
    "    evaluation_labels.extend([activity_number] * 12 * 8)\n",
    "    \n",
    "    \n",
    "    # Step 3: Iterating Through Subject Folders\n",
    "    subjects = os.listdir(activity_path)\n",
    "    for subject in subjects:\n",
    "        subject_path = os.path.join(activity_path, subject)\n",
    "        \n",
    "        # Step 4: Reading Text Files (Segments)\n",
    "        segments = os.listdir(subject_path)\n",
    "        training_segments = segments[:48]  # First 48 segments for training\n",
    "        evaluation_segments = segments[48:]  # Rest for evaluation\n",
    "        \n",
    "        for segment_file in training_segments:\n",
    "            segment_file_path = os.path.join(subject_path, segment_file)\n",
    "            with open(segment_file_path, 'r') as file:\n",
    "                segment_data = np.loadtxt(file, delimiter=',')\n",
    "                mean_data = np.mean(segment_data, axis=0)  # Taking mean along columns\n",
    "                training_data_means.append(mean_data)\n",
    "                \n",
    "                flattened_data = segment_data.flatten()  # Flattening the segment\n",
    "                flattened_training_data.append(flattened_data)\n",
    "        \n",
    "        for segment_file in evaluation_segments:\n",
    "            segment_file_path = os.path.join(subject_path, segment_file)\n",
    "            with open(segment_file_path, 'r') as file:\n",
    "                segment_data = np.loadtxt(file, delimiter=',')\n",
    "                mean_data = np.mean(segment_data, axis=0)  # Taking mean along columns\n",
    "                evaluation_data_means.append(mean_data)\n",
    "                \n",
    "                flattened_data = segment_data.flatten()  # Flattening the segment\n",
    "                flattened_evaluation_data.append(flattened_data)\n",
    "\n",
    "# Convert the data lists into numpy arrays\n",
    "training_data_means = np.array(training_data_means)\n",
    "evaluation_data_means = np.array(evaluation_data_means)\n",
    "flattened_training_data = np.array(flattened_training_data)\n",
    "flattened_evaluation_data = np.array(flattened_evaluation_data)\n",
    "PCA_reduction=PCA(n_components=0.9)\n",
    "PCA_training_data = PCA_reduction.fit_transform(flattened_training_data)\n",
    "PCA_evaluation_data = PCA_reduction.transform(flattened_evaluation_data)"
   ],
   "metadata": {
    "collapsed": false,
    "ExecuteTime": {
     "end_time": "2024-03-27T13:10:14.661445Z",
     "start_time": "2024-03-27T13:06:55.374524Z"
    }
   },
   "id": "a8c897df49c583aa",
   "execution_count": 2
  },
  {
   "cell_type": "code",
   "outputs": [
    {
     "name": "stdout",
     "output_type": "stream",
     "text": [
      "Shape of training labels (7296,)\n",
      "Shape of evaluation labels (1824,)\n",
      "Shape of training data (means): (7296, 45)\n",
      "Shape of evaluation data (means): (1824, 45)\n",
      "Shape of flattened training data: (7296, 5625)\n",
      "Shape of flattened evaluation data: (1824, 5625)\n",
      "Shape of PCA training data: (7296, 346)\n",
      "Shape of PCA evaluation data: (1824, 346)\n"
     ]
    }
   ],
   "source": [
    "print(\"Shape of training labels\", np.array(training_labels).shape)\n",
    "print(\"Shape of evaluation labels\", np.array(evaluation_labels).shape)\n",
    "print(\"Shape of training data (means):\", training_data_means.shape)\n",
    "print(\"Shape of evaluation data (means):\", evaluation_data_means.shape)\n",
    "print(\"Shape of flattened training data:\", flattened_training_data.shape)\n",
    "print(\"Shape of flattened evaluation data:\", flattened_evaluation_data.shape)\n",
    "print(\"Shape of PCA training data:\", PCA_training_data.shape)\n",
    "print(\"Shape of PCA evaluation data:\", PCA_evaluation_data.shape)"
   ],
   "metadata": {
    "collapsed": false,
    "ExecuteTime": {
     "end_time": "2024-03-27T13:10:14.670750Z",
     "start_time": "2024-03-27T13:10:14.663549Z"
    }
   },
   "id": "ca91d7b0d3fb72fb",
   "execution_count": 3
  },
  {
   "cell_type": "code",
   "outputs": [
    {
     "data": {
      "text/plain": "       0\n0     11\n1     11\n2     11\n3     11\n4     11\n...   ..\n7291   9\n7292   9\n7293   9\n7294   9\n7295   9\n\n[7296 rows x 1 columns]",
      "text/html": "<div>\n<style scoped>\n    .dataframe tbody tr th:only-of-type {\n        vertical-align: middle;\n    }\n\n    .dataframe tbody tr th {\n        vertical-align: top;\n    }\n\n    .dataframe thead th {\n        text-align: right;\n    }\n</style>\n<table border=\"1\" class=\"dataframe\">\n  <thead>\n    <tr style=\"text-align: right;\">\n      <th></th>\n      <th>0</th>\n    </tr>\n  </thead>\n  <tbody>\n    <tr>\n      <th>0</th>\n      <td>11</td>\n    </tr>\n    <tr>\n      <th>1</th>\n      <td>11</td>\n    </tr>\n    <tr>\n      <th>2</th>\n      <td>11</td>\n    </tr>\n    <tr>\n      <th>3</th>\n      <td>11</td>\n    </tr>\n    <tr>\n      <th>4</th>\n      <td>11</td>\n    </tr>\n    <tr>\n      <th>...</th>\n      <td>...</td>\n    </tr>\n    <tr>\n      <th>7291</th>\n      <td>9</td>\n    </tr>\n    <tr>\n      <th>7292</th>\n      <td>9</td>\n    </tr>\n    <tr>\n      <th>7293</th>\n      <td>9</td>\n    </tr>\n    <tr>\n      <th>7294</th>\n      <td>9</td>\n    </tr>\n    <tr>\n      <th>7295</th>\n      <td>9</td>\n    </tr>\n  </tbody>\n</table>\n<p>7296 rows × 1 columns</p>\n</div>"
     },
     "execution_count": 4,
     "metadata": {},
     "output_type": "execute_result"
    }
   ],
   "source": [
    "pd.DataFrame(training_labels)"
   ],
   "metadata": {
    "collapsed": false,
    "ExecuteTime": {
     "end_time": "2024-03-27T13:10:14.776880Z",
     "start_time": "2024-03-27T13:10:14.674030Z"
    }
   },
   "id": "a69cc4174c1f688",
   "execution_count": 4
  },
  {
   "cell_type": "code",
   "outputs": [
    {
     "data": {
      "text/plain": "       0\n0     11\n1     11\n2     11\n3     11\n4     11\n...   ..\n1819   9\n1820   9\n1821   9\n1822   9\n1823   9\n\n[1824 rows x 1 columns]",
      "text/html": "<div>\n<style scoped>\n    .dataframe tbody tr th:only-of-type {\n        vertical-align: middle;\n    }\n\n    .dataframe tbody tr th {\n        vertical-align: top;\n    }\n\n    .dataframe thead th {\n        text-align: right;\n    }\n</style>\n<table border=\"1\" class=\"dataframe\">\n  <thead>\n    <tr style=\"text-align: right;\">\n      <th></th>\n      <th>0</th>\n    </tr>\n  </thead>\n  <tbody>\n    <tr>\n      <th>0</th>\n      <td>11</td>\n    </tr>\n    <tr>\n      <th>1</th>\n      <td>11</td>\n    </tr>\n    <tr>\n      <th>2</th>\n      <td>11</td>\n    </tr>\n    <tr>\n      <th>3</th>\n      <td>11</td>\n    </tr>\n    <tr>\n      <th>4</th>\n      <td>11</td>\n    </tr>\n    <tr>\n      <th>...</th>\n      <td>...</td>\n    </tr>\n    <tr>\n      <th>1819</th>\n      <td>9</td>\n    </tr>\n    <tr>\n      <th>1820</th>\n      <td>9</td>\n    </tr>\n    <tr>\n      <th>1821</th>\n      <td>9</td>\n    </tr>\n    <tr>\n      <th>1822</th>\n      <td>9</td>\n    </tr>\n    <tr>\n      <th>1823</th>\n      <td>9</td>\n    </tr>\n  </tbody>\n</table>\n<p>1824 rows × 1 columns</p>\n</div>"
     },
     "execution_count": 5,
     "metadata": {},
     "output_type": "execute_result"
    }
   ],
   "source": [
    "pd.DataFrame(evaluation_labels)"
   ],
   "metadata": {
    "collapsed": false,
    "ExecuteTime": {
     "end_time": "2024-03-27T13:10:15.034152Z",
     "start_time": "2024-03-27T13:10:14.778413Z"
    }
   },
   "id": "74ab6888392b07f4",
   "execution_count": 5
  },
  {
   "cell_type": "code",
   "outputs": [
    {
     "data": {
      "text/plain": "            0         1         2         3         4         5         6   \\\n0     9.463623 -0.169830  2.998977  0.004409  0.023790 -0.002431 -0.659485   \n1     9.476056 -0.222168  2.838336 -0.001879  0.048451 -0.000265 -0.668427   \n2     9.207562 -0.219169  2.999778  0.016151  0.015965  0.006579 -0.643951   \n3     9.476754 -0.175272  2.783112 -0.000048  0.038873 -0.008345 -0.670262   \n4     9.353961 -0.240682  2.776958 -0.007014 -0.005827 -0.009539 -0.675379   \n...        ...       ...       ...       ...       ...       ...       ...   \n7291  8.569390 -1.816948  4.409214 -0.005117 -0.001691 -0.011827 -1.003295   \n7292  8.783426 -1.834095  4.025974 -0.015930  0.029256 -0.020495 -0.992442   \n7293  9.060753 -2.154024  2.909284  0.006749  0.017012  0.000023 -0.629399   \n7294  8.669431 -1.762650  4.362763 -0.001790  0.043422 -0.004631 -1.001597   \n7295  8.656778 -1.618825  4.407137 -0.009205  0.017201 -0.008745 -1.002013   \n\n            7         8         9   ...        35         36        37  \\\n0     0.142973 -0.565096 -0.731891  ...  0.385116  -9.714778 -2.864157   \n1     0.148597 -0.553009 -0.668899  ...  0.398193  -9.810123 -2.787432   \n2     0.165409 -0.578870 -0.763694  ...  0.418826  -9.725551 -2.621162   \n3     0.130099 -0.557054 -0.624340  ...  0.388737  -9.907426 -2.714160   \n4     0.146718 -0.546130 -0.754283  ...  0.400183  -9.504918 -2.738909   \n...        ...       ...       ...  ...       ...        ...       ...   \n7291  0.117056  0.074922  8.189152  ...  0.106067 -10.445570 -0.627586   \n7292  0.115806  0.118030  8.342118  ...  0.039752 -10.328952 -0.854359   \n7293  0.316977 -0.698595  8.323634  ...  0.037144 -10.130082 -0.812957   \n7294  0.123951  0.090320  8.189076  ...  0.097354 -10.261746 -0.985279   \n7295  0.124367  0.082224  8.161953  ...  0.123118 -10.242925 -0.831689   \n\n            38        39        40        41        42        43        44  \n0    -1.666767 -0.057504  0.156331  0.013497  0.842121  0.642905 -0.155769  \n1    -1.609051 -0.107312  0.106966 -0.089040  0.876152  0.610063 -0.163081  \n2    -1.788985 -0.127252  0.086398  0.111089  0.866224  0.633439 -0.164946  \n3    -1.500715 -0.103577  0.103234 -0.098368  0.863716  0.613491 -0.157234  \n4    -1.634349 -0.062187  0.110814 -0.127982  0.850519  0.646350 -0.164660  \n...        ...       ...       ...       ...       ...       ...       ...  \n7291 -0.430435 -0.041317  0.204751 -0.070301  0.788958 -0.419361  0.095562  \n7292 -0.097083  0.101475  0.145063  0.089044  0.792835 -0.404309  0.104835  \n7293 -0.446078  0.018500  0.170298 -0.020820  0.706226  0.557941 -0.000902  \n7294 -0.150991  0.010737  0.156802  0.058141  0.794878 -0.415031  0.079238  \n7295 -0.380901  0.074125  0.166289  0.043620  0.791831 -0.420142  0.083933  \n\n[7296 rows x 45 columns]",
      "text/html": "<div>\n<style scoped>\n    .dataframe tbody tr th:only-of-type {\n        vertical-align: middle;\n    }\n\n    .dataframe tbody tr th {\n        vertical-align: top;\n    }\n\n    .dataframe thead th {\n        text-align: right;\n    }\n</style>\n<table border=\"1\" class=\"dataframe\">\n  <thead>\n    <tr style=\"text-align: right;\">\n      <th></th>\n      <th>0</th>\n      <th>1</th>\n      <th>2</th>\n      <th>3</th>\n      <th>4</th>\n      <th>5</th>\n      <th>6</th>\n      <th>7</th>\n      <th>8</th>\n      <th>9</th>\n      <th>...</th>\n      <th>35</th>\n      <th>36</th>\n      <th>37</th>\n      <th>38</th>\n      <th>39</th>\n      <th>40</th>\n      <th>41</th>\n      <th>42</th>\n      <th>43</th>\n      <th>44</th>\n    </tr>\n  </thead>\n  <tbody>\n    <tr>\n      <th>0</th>\n      <td>9.463623</td>\n      <td>-0.169830</td>\n      <td>2.998977</td>\n      <td>0.004409</td>\n      <td>0.023790</td>\n      <td>-0.002431</td>\n      <td>-0.659485</td>\n      <td>0.142973</td>\n      <td>-0.565096</td>\n      <td>-0.731891</td>\n      <td>...</td>\n      <td>0.385116</td>\n      <td>-9.714778</td>\n      <td>-2.864157</td>\n      <td>-1.666767</td>\n      <td>-0.057504</td>\n      <td>0.156331</td>\n      <td>0.013497</td>\n      <td>0.842121</td>\n      <td>0.642905</td>\n      <td>-0.155769</td>\n    </tr>\n    <tr>\n      <th>1</th>\n      <td>9.476056</td>\n      <td>-0.222168</td>\n      <td>2.838336</td>\n      <td>-0.001879</td>\n      <td>0.048451</td>\n      <td>-0.000265</td>\n      <td>-0.668427</td>\n      <td>0.148597</td>\n      <td>-0.553009</td>\n      <td>-0.668899</td>\n      <td>...</td>\n      <td>0.398193</td>\n      <td>-9.810123</td>\n      <td>-2.787432</td>\n      <td>-1.609051</td>\n      <td>-0.107312</td>\n      <td>0.106966</td>\n      <td>-0.089040</td>\n      <td>0.876152</td>\n      <td>0.610063</td>\n      <td>-0.163081</td>\n    </tr>\n    <tr>\n      <th>2</th>\n      <td>9.207562</td>\n      <td>-0.219169</td>\n      <td>2.999778</td>\n      <td>0.016151</td>\n      <td>0.015965</td>\n      <td>0.006579</td>\n      <td>-0.643951</td>\n      <td>0.165409</td>\n      <td>-0.578870</td>\n      <td>-0.763694</td>\n      <td>...</td>\n      <td>0.418826</td>\n      <td>-9.725551</td>\n      <td>-2.621162</td>\n      <td>-1.788985</td>\n      <td>-0.127252</td>\n      <td>0.086398</td>\n      <td>0.111089</td>\n      <td>0.866224</td>\n      <td>0.633439</td>\n      <td>-0.164946</td>\n    </tr>\n    <tr>\n      <th>3</th>\n      <td>9.476754</td>\n      <td>-0.175272</td>\n      <td>2.783112</td>\n      <td>-0.000048</td>\n      <td>0.038873</td>\n      <td>-0.008345</td>\n      <td>-0.670262</td>\n      <td>0.130099</td>\n      <td>-0.557054</td>\n      <td>-0.624340</td>\n      <td>...</td>\n      <td>0.388737</td>\n      <td>-9.907426</td>\n      <td>-2.714160</td>\n      <td>-1.500715</td>\n      <td>-0.103577</td>\n      <td>0.103234</td>\n      <td>-0.098368</td>\n      <td>0.863716</td>\n      <td>0.613491</td>\n      <td>-0.157234</td>\n    </tr>\n    <tr>\n      <th>4</th>\n      <td>9.353961</td>\n      <td>-0.240682</td>\n      <td>2.776958</td>\n      <td>-0.007014</td>\n      <td>-0.005827</td>\n      <td>-0.009539</td>\n      <td>-0.675379</td>\n      <td>0.146718</td>\n      <td>-0.546130</td>\n      <td>-0.754283</td>\n      <td>...</td>\n      <td>0.400183</td>\n      <td>-9.504918</td>\n      <td>-2.738909</td>\n      <td>-1.634349</td>\n      <td>-0.062187</td>\n      <td>0.110814</td>\n      <td>-0.127982</td>\n      <td>0.850519</td>\n      <td>0.646350</td>\n      <td>-0.164660</td>\n    </tr>\n    <tr>\n      <th>...</th>\n      <td>...</td>\n      <td>...</td>\n      <td>...</td>\n      <td>...</td>\n      <td>...</td>\n      <td>...</td>\n      <td>...</td>\n      <td>...</td>\n      <td>...</td>\n      <td>...</td>\n      <td>...</td>\n      <td>...</td>\n      <td>...</td>\n      <td>...</td>\n      <td>...</td>\n      <td>...</td>\n      <td>...</td>\n      <td>...</td>\n      <td>...</td>\n      <td>...</td>\n      <td>...</td>\n    </tr>\n    <tr>\n      <th>7291</th>\n      <td>8.569390</td>\n      <td>-1.816948</td>\n      <td>4.409214</td>\n      <td>-0.005117</td>\n      <td>-0.001691</td>\n      <td>-0.011827</td>\n      <td>-1.003295</td>\n      <td>0.117056</td>\n      <td>0.074922</td>\n      <td>8.189152</td>\n      <td>...</td>\n      <td>0.106067</td>\n      <td>-10.445570</td>\n      <td>-0.627586</td>\n      <td>-0.430435</td>\n      <td>-0.041317</td>\n      <td>0.204751</td>\n      <td>-0.070301</td>\n      <td>0.788958</td>\n      <td>-0.419361</td>\n      <td>0.095562</td>\n    </tr>\n    <tr>\n      <th>7292</th>\n      <td>8.783426</td>\n      <td>-1.834095</td>\n      <td>4.025974</td>\n      <td>-0.015930</td>\n      <td>0.029256</td>\n      <td>-0.020495</td>\n      <td>-0.992442</td>\n      <td>0.115806</td>\n      <td>0.118030</td>\n      <td>8.342118</td>\n      <td>...</td>\n      <td>0.039752</td>\n      <td>-10.328952</td>\n      <td>-0.854359</td>\n      <td>-0.097083</td>\n      <td>0.101475</td>\n      <td>0.145063</td>\n      <td>0.089044</td>\n      <td>0.792835</td>\n      <td>-0.404309</td>\n      <td>0.104835</td>\n    </tr>\n    <tr>\n      <th>7293</th>\n      <td>9.060753</td>\n      <td>-2.154024</td>\n      <td>2.909284</td>\n      <td>0.006749</td>\n      <td>0.017012</td>\n      <td>0.000023</td>\n      <td>-0.629399</td>\n      <td>0.316977</td>\n      <td>-0.698595</td>\n      <td>8.323634</td>\n      <td>...</td>\n      <td>0.037144</td>\n      <td>-10.130082</td>\n      <td>-0.812957</td>\n      <td>-0.446078</td>\n      <td>0.018500</td>\n      <td>0.170298</td>\n      <td>-0.020820</td>\n      <td>0.706226</td>\n      <td>0.557941</td>\n      <td>-0.000902</td>\n    </tr>\n    <tr>\n      <th>7294</th>\n      <td>8.669431</td>\n      <td>-1.762650</td>\n      <td>4.362763</td>\n      <td>-0.001790</td>\n      <td>0.043422</td>\n      <td>-0.004631</td>\n      <td>-1.001597</td>\n      <td>0.123951</td>\n      <td>0.090320</td>\n      <td>8.189076</td>\n      <td>...</td>\n      <td>0.097354</td>\n      <td>-10.261746</td>\n      <td>-0.985279</td>\n      <td>-0.150991</td>\n      <td>0.010737</td>\n      <td>0.156802</td>\n      <td>0.058141</td>\n      <td>0.794878</td>\n      <td>-0.415031</td>\n      <td>0.079238</td>\n    </tr>\n    <tr>\n      <th>7295</th>\n      <td>8.656778</td>\n      <td>-1.618825</td>\n      <td>4.407137</td>\n      <td>-0.009205</td>\n      <td>0.017201</td>\n      <td>-0.008745</td>\n      <td>-1.002013</td>\n      <td>0.124367</td>\n      <td>0.082224</td>\n      <td>8.161953</td>\n      <td>...</td>\n      <td>0.123118</td>\n      <td>-10.242925</td>\n      <td>-0.831689</td>\n      <td>-0.380901</td>\n      <td>0.074125</td>\n      <td>0.166289</td>\n      <td>0.043620</td>\n      <td>0.791831</td>\n      <td>-0.420142</td>\n      <td>0.083933</td>\n    </tr>\n  </tbody>\n</table>\n<p>7296 rows × 45 columns</p>\n</div>"
     },
     "execution_count": 6,
     "metadata": {},
     "output_type": "execute_result"
    }
   ],
   "source": [
    "pd.DataFrame(training_data_means)"
   ],
   "metadata": {
    "collapsed": false,
    "ExecuteTime": {
     "end_time": "2024-03-27T13:10:15.290111Z",
     "start_time": "2024-03-27T13:10:15.035401Z"
    }
   },
   "id": "4ffce1c2d44ab994",
   "execution_count": 6
  },
  {
   "cell_type": "code",
   "outputs": [
    {
     "data": {
      "text/plain": "            0         1         2         3         4         5         6   \\\n0     9.472670 -0.272738  2.725906  0.009250  0.035732 -0.006189 -0.684218   \n1     9.139147 -0.384357  3.261742  0.013179  0.020691  0.002530 -0.625601   \n2     9.194726 -0.369558  3.078556  0.004354 -0.006008 -0.013039 -0.647647   \n3     9.317678 -0.201494  2.763203  0.010133 -0.000088  0.004207 -0.679321   \n4     9.376414 -0.297518  3.034184 -0.002855  0.037688 -0.005732 -0.645982   \n...        ...       ...       ...       ...       ...       ...       ...   \n1819  9.064330 -1.723098  3.267133  0.002562  0.027453  0.011228 -0.612238   \n1820  8.606701 -1.757017  4.334498  0.016706  0.008302  0.001027 -0.996843   \n1821  8.957722 -2.138222  3.285014 -0.030203  0.030316 -0.017804 -0.603521   \n1822  8.443589 -1.821839  4.678541 -0.001596  0.008604 -0.018738 -1.005183   \n1823  9.102777 -1.873280  2.996763  0.003005  0.034035  0.002203 -0.627116   \n\n            7         8         9   ...        35         36        37  \\\n0     0.145956 -0.547239 -0.472892  ...  0.389349  -9.920878 -2.703421   \n1     0.172328 -0.603960 -0.739187  ...  0.405976  -9.795554 -2.494996   \n2     0.165743 -0.579657 -0.665781  ...  0.407273  -9.766066 -2.496204   \n3     0.138913 -0.549962 -0.377449  ...  0.386958  -9.761353 -2.661107   \n4     0.169311 -0.576912 -0.747337  ...  0.421722  -9.652412 -2.717035   \n...        ...       ...       ...  ...       ...        ...       ...   \n1819  0.275970 -0.725037  8.186106  ...  0.024452 -10.041501 -0.905619   \n1820  0.124098  0.089461  8.203506  ...  0.102029 -10.198734 -0.592361   \n1821  0.300659 -0.718782  8.229657  ...  0.040366 -10.093598 -0.800619   \n1822  0.141008  0.055131  8.044452  ...  0.108596 -10.190159 -0.774342   \n1823  0.322719 -0.699630  8.282894  ...  0.049842 -10.143840 -0.741697   \n\n            38        39        40        41        42        43        44  \n0    -1.721789 -0.108109  0.113192 -0.119129  0.858603  0.605785 -0.142047  \n1    -1.563673 -0.042978  0.093128 -0.160382  0.865180  0.635071 -0.169360  \n2    -1.713778 -0.058548  0.107597 -0.186254  0.852770  0.634384 -0.159151  \n3    -1.572883 -0.112073  0.134298  0.118636  0.857806  0.615536 -0.161535  \n4    -1.702552 -0.071277  0.127123  0.088348  0.850481  0.641037 -0.171528  \n...        ...       ...       ...       ...       ...       ...       ...  \n1819 -0.600707 -0.095827  0.113906  0.086600  0.727792  0.531622 -0.001710  \n1820 -0.387937 -0.078700  0.178007  0.029144  0.780570 -0.428183  0.092244  \n1821 -0.518499  0.050664  0.164849 -0.034196  0.704539  0.557057  0.005829  \n1822 -0.275753 -0.003412  0.177233  0.008880  0.790645 -0.424063  0.072930  \n1823 -0.556195 -0.037855  0.159875 -0.019284  0.726026  0.535164 -0.001082  \n\n[1824 rows x 45 columns]",
      "text/html": "<div>\n<style scoped>\n    .dataframe tbody tr th:only-of-type {\n        vertical-align: middle;\n    }\n\n    .dataframe tbody tr th {\n        vertical-align: top;\n    }\n\n    .dataframe thead th {\n        text-align: right;\n    }\n</style>\n<table border=\"1\" class=\"dataframe\">\n  <thead>\n    <tr style=\"text-align: right;\">\n      <th></th>\n      <th>0</th>\n      <th>1</th>\n      <th>2</th>\n      <th>3</th>\n      <th>4</th>\n      <th>5</th>\n      <th>6</th>\n      <th>7</th>\n      <th>8</th>\n      <th>9</th>\n      <th>...</th>\n      <th>35</th>\n      <th>36</th>\n      <th>37</th>\n      <th>38</th>\n      <th>39</th>\n      <th>40</th>\n      <th>41</th>\n      <th>42</th>\n      <th>43</th>\n      <th>44</th>\n    </tr>\n  </thead>\n  <tbody>\n    <tr>\n      <th>0</th>\n      <td>9.472670</td>\n      <td>-0.272738</td>\n      <td>2.725906</td>\n      <td>0.009250</td>\n      <td>0.035732</td>\n      <td>-0.006189</td>\n      <td>-0.684218</td>\n      <td>0.145956</td>\n      <td>-0.547239</td>\n      <td>-0.472892</td>\n      <td>...</td>\n      <td>0.389349</td>\n      <td>-9.920878</td>\n      <td>-2.703421</td>\n      <td>-1.721789</td>\n      <td>-0.108109</td>\n      <td>0.113192</td>\n      <td>-0.119129</td>\n      <td>0.858603</td>\n      <td>0.605785</td>\n      <td>-0.142047</td>\n    </tr>\n    <tr>\n      <th>1</th>\n      <td>9.139147</td>\n      <td>-0.384357</td>\n      <td>3.261742</td>\n      <td>0.013179</td>\n      <td>0.020691</td>\n      <td>0.002530</td>\n      <td>-0.625601</td>\n      <td>0.172328</td>\n      <td>-0.603960</td>\n      <td>-0.739187</td>\n      <td>...</td>\n      <td>0.405976</td>\n      <td>-9.795554</td>\n      <td>-2.494996</td>\n      <td>-1.563673</td>\n      <td>-0.042978</td>\n      <td>0.093128</td>\n      <td>-0.160382</td>\n      <td>0.865180</td>\n      <td>0.635071</td>\n      <td>-0.169360</td>\n    </tr>\n    <tr>\n      <th>2</th>\n      <td>9.194726</td>\n      <td>-0.369558</td>\n      <td>3.078556</td>\n      <td>0.004354</td>\n      <td>-0.006008</td>\n      <td>-0.013039</td>\n      <td>-0.647647</td>\n      <td>0.165743</td>\n      <td>-0.579657</td>\n      <td>-0.665781</td>\n      <td>...</td>\n      <td>0.407273</td>\n      <td>-9.766066</td>\n      <td>-2.496204</td>\n      <td>-1.713778</td>\n      <td>-0.058548</td>\n      <td>0.107597</td>\n      <td>-0.186254</td>\n      <td>0.852770</td>\n      <td>0.634384</td>\n      <td>-0.159151</td>\n    </tr>\n    <tr>\n      <th>3</th>\n      <td>9.317678</td>\n      <td>-0.201494</td>\n      <td>2.763203</td>\n      <td>0.010133</td>\n      <td>-0.000088</td>\n      <td>0.004207</td>\n      <td>-0.679321</td>\n      <td>0.138913</td>\n      <td>-0.549962</td>\n      <td>-0.377449</td>\n      <td>...</td>\n      <td>0.386958</td>\n      <td>-9.761353</td>\n      <td>-2.661107</td>\n      <td>-1.572883</td>\n      <td>-0.112073</td>\n      <td>0.134298</td>\n      <td>0.118636</td>\n      <td>0.857806</td>\n      <td>0.615536</td>\n      <td>-0.161535</td>\n    </tr>\n    <tr>\n      <th>4</th>\n      <td>9.376414</td>\n      <td>-0.297518</td>\n      <td>3.034184</td>\n      <td>-0.002855</td>\n      <td>0.037688</td>\n      <td>-0.005732</td>\n      <td>-0.645982</td>\n      <td>0.169311</td>\n      <td>-0.576912</td>\n      <td>-0.747337</td>\n      <td>...</td>\n      <td>0.421722</td>\n      <td>-9.652412</td>\n      <td>-2.717035</td>\n      <td>-1.702552</td>\n      <td>-0.071277</td>\n      <td>0.127123</td>\n      <td>0.088348</td>\n      <td>0.850481</td>\n      <td>0.641037</td>\n      <td>-0.171528</td>\n    </tr>\n    <tr>\n      <th>...</th>\n      <td>...</td>\n      <td>...</td>\n      <td>...</td>\n      <td>...</td>\n      <td>...</td>\n      <td>...</td>\n      <td>...</td>\n      <td>...</td>\n      <td>...</td>\n      <td>...</td>\n      <td>...</td>\n      <td>...</td>\n      <td>...</td>\n      <td>...</td>\n      <td>...</td>\n      <td>...</td>\n      <td>...</td>\n      <td>...</td>\n      <td>...</td>\n      <td>...</td>\n      <td>...</td>\n    </tr>\n    <tr>\n      <th>1819</th>\n      <td>9.064330</td>\n      <td>-1.723098</td>\n      <td>3.267133</td>\n      <td>0.002562</td>\n      <td>0.027453</td>\n      <td>0.011228</td>\n      <td>-0.612238</td>\n      <td>0.275970</td>\n      <td>-0.725037</td>\n      <td>8.186106</td>\n      <td>...</td>\n      <td>0.024452</td>\n      <td>-10.041501</td>\n      <td>-0.905619</td>\n      <td>-0.600707</td>\n      <td>-0.095827</td>\n      <td>0.113906</td>\n      <td>0.086600</td>\n      <td>0.727792</td>\n      <td>0.531622</td>\n      <td>-0.001710</td>\n    </tr>\n    <tr>\n      <th>1820</th>\n      <td>8.606701</td>\n      <td>-1.757017</td>\n      <td>4.334498</td>\n      <td>0.016706</td>\n      <td>0.008302</td>\n      <td>0.001027</td>\n      <td>-0.996843</td>\n      <td>0.124098</td>\n      <td>0.089461</td>\n      <td>8.203506</td>\n      <td>...</td>\n      <td>0.102029</td>\n      <td>-10.198734</td>\n      <td>-0.592361</td>\n      <td>-0.387937</td>\n      <td>-0.078700</td>\n      <td>0.178007</td>\n      <td>0.029144</td>\n      <td>0.780570</td>\n      <td>-0.428183</td>\n      <td>0.092244</td>\n    </tr>\n    <tr>\n      <th>1821</th>\n      <td>8.957722</td>\n      <td>-2.138222</td>\n      <td>3.285014</td>\n      <td>-0.030203</td>\n      <td>0.030316</td>\n      <td>-0.017804</td>\n      <td>-0.603521</td>\n      <td>0.300659</td>\n      <td>-0.718782</td>\n      <td>8.229657</td>\n      <td>...</td>\n      <td>0.040366</td>\n      <td>-10.093598</td>\n      <td>-0.800619</td>\n      <td>-0.518499</td>\n      <td>0.050664</td>\n      <td>0.164849</td>\n      <td>-0.034196</td>\n      <td>0.704539</td>\n      <td>0.557057</td>\n      <td>0.005829</td>\n    </tr>\n    <tr>\n      <th>1822</th>\n      <td>8.443589</td>\n      <td>-1.821839</td>\n      <td>4.678541</td>\n      <td>-0.001596</td>\n      <td>0.008604</td>\n      <td>-0.018738</td>\n      <td>-1.005183</td>\n      <td>0.141008</td>\n      <td>0.055131</td>\n      <td>8.044452</td>\n      <td>...</td>\n      <td>0.108596</td>\n      <td>-10.190159</td>\n      <td>-0.774342</td>\n      <td>-0.275753</td>\n      <td>-0.003412</td>\n      <td>0.177233</td>\n      <td>0.008880</td>\n      <td>0.790645</td>\n      <td>-0.424063</td>\n      <td>0.072930</td>\n    </tr>\n    <tr>\n      <th>1823</th>\n      <td>9.102777</td>\n      <td>-1.873280</td>\n      <td>2.996763</td>\n      <td>0.003005</td>\n      <td>0.034035</td>\n      <td>0.002203</td>\n      <td>-0.627116</td>\n      <td>0.322719</td>\n      <td>-0.699630</td>\n      <td>8.282894</td>\n      <td>...</td>\n      <td>0.049842</td>\n      <td>-10.143840</td>\n      <td>-0.741697</td>\n      <td>-0.556195</td>\n      <td>-0.037855</td>\n      <td>0.159875</td>\n      <td>-0.019284</td>\n      <td>0.726026</td>\n      <td>0.535164</td>\n      <td>-0.001082</td>\n    </tr>\n  </tbody>\n</table>\n<p>1824 rows × 45 columns</p>\n</div>"
     },
     "execution_count": 7,
     "metadata": {},
     "output_type": "execute_result"
    }
   ],
   "source": [
    "pd.DataFrame(evaluation_data_means)"
   ],
   "metadata": {
    "collapsed": false,
    "ExecuteTime": {
     "end_time": "2024-03-27T13:10:15.369099Z",
     "start_time": "2024-03-27T13:10:15.291671Z"
    }
   },
   "id": "35cd511eb790b6c2",
   "execution_count": 7
  },
  {
   "cell_type": "code",
   "outputs": [
    {
     "data": {
      "text/plain": "             0          1          2          3          4         5    \\\n0      21.321965 -75.492509  67.883860 -32.360119  20.484552  2.387250   \n1      20.482578 -74.162199  69.184385 -34.151067  19.787890 -0.181956   \n2      21.258210 -73.471550  68.076878 -35.758201  25.825449 -2.972525   \n3      19.857928 -74.241022  69.451059 -34.603909  19.977524  1.373702   \n4      22.972442 -72.860739  69.093035 -35.739325  20.911722 -0.882516   \n...          ...        ...        ...        ...        ...       ...   \n7291 -107.485501  23.697962   6.636783  52.246444 -19.342664  1.347518   \n7292 -107.397439  22.587690   1.776285  49.104274 -21.380511  5.594888   \n7293 -106.109538  24.191123   0.608641  37.516404 -26.539447  0.318823   \n7294 -105.814352  22.751869   3.571967  52.879790 -21.906625 -0.133608   \n7295 -106.916652  19.622043   4.676390  53.413667 -19.294440 -1.772917   \n\n           6         7         8         9    ...       336       337  \\\n0     3.156933 -0.547257 -4.005556 -3.333702  ... -3.974110 -3.862068   \n1     1.471200  0.270675 -2.305080 -3.401502  ... -3.436962  1.704288   \n2    -0.786571 -0.026821 -0.370764 -0.788266  ... -2.883757  2.559318   \n3     2.712862  0.906379 -0.497494 -3.448419  ...  2.638927 -0.496183   \n4    -0.687485 -0.531699 -0.277038 -3.570726  ...  1.717175 -4.160378   \n...        ...       ...       ...       ...  ...       ...       ...   \n7291 -0.213338  1.698341 -0.767989  3.784771  ...  3.276000 -6.122884   \n7292  2.101889 -0.815471  1.700092  0.968651  ...  1.433457 -0.678642   \n7293  2.243428 -1.229936  1.798028  1.970624  ...  5.259197 -1.109290   \n7294  2.489736  1.297855  3.094100  1.786804  ... -2.189987 -1.459191   \n7295  3.941260 -0.472204  6.238149  1.856761  ...  0.199249  6.152389   \n\n           338       339       340       341       342       343       344  \\\n0    -3.446593 -2.749031  0.416154 -2.034849 -2.562367  4.268676  1.885579   \n1     1.462103 -0.526579  1.511646 -1.048466 -0.459013 -7.597394 -4.513982   \n2     1.745072  1.922706  5.652148  4.164296 -5.201447  1.988381 -2.983573   \n3    -3.942824 -0.017053  4.768055 -2.488416 -1.271935 -5.649696 -2.601809   \n4    -2.700974 -0.383368 -6.699713 -4.861057  1.625252  6.281398 -4.786625   \n...        ...       ...       ...       ...       ...       ...       ...   \n7291 -7.261908  1.023264  0.784551  1.920128  3.392541 -2.853997  0.761542   \n7292  1.079254  0.257777  1.125281 -3.380359  3.449854  3.500964 -8.673513   \n7293  7.130868 -0.563684 -2.142125 -4.885171  1.303480 -1.598842  3.212735   \n7294  1.544142  0.967801 -0.771689 -0.444044 -0.890681 -1.296275 -2.429057   \n7295  2.706224 -4.204421 -3.329752 -1.405579  3.643816 -1.928582  4.267744   \n\n           345  \n0    -1.244694  \n1     1.069812  \n2    -3.413019  \n3     2.501392  \n4    -3.156542  \n...        ...  \n7291  7.793407  \n7292 -4.835229  \n7293  0.712381  \n7294 -1.878844  \n7295 -1.090789  \n\n[7296 rows x 346 columns]",
      "text/html": "<div>\n<style scoped>\n    .dataframe tbody tr th:only-of-type {\n        vertical-align: middle;\n    }\n\n    .dataframe tbody tr th {\n        vertical-align: top;\n    }\n\n    .dataframe thead th {\n        text-align: right;\n    }\n</style>\n<table border=\"1\" class=\"dataframe\">\n  <thead>\n    <tr style=\"text-align: right;\">\n      <th></th>\n      <th>0</th>\n      <th>1</th>\n      <th>2</th>\n      <th>3</th>\n      <th>4</th>\n      <th>5</th>\n      <th>6</th>\n      <th>7</th>\n      <th>8</th>\n      <th>9</th>\n      <th>...</th>\n      <th>336</th>\n      <th>337</th>\n      <th>338</th>\n      <th>339</th>\n      <th>340</th>\n      <th>341</th>\n      <th>342</th>\n      <th>343</th>\n      <th>344</th>\n      <th>345</th>\n    </tr>\n  </thead>\n  <tbody>\n    <tr>\n      <th>0</th>\n      <td>21.321965</td>\n      <td>-75.492509</td>\n      <td>67.883860</td>\n      <td>-32.360119</td>\n      <td>20.484552</td>\n      <td>2.387250</td>\n      <td>3.156933</td>\n      <td>-0.547257</td>\n      <td>-4.005556</td>\n      <td>-3.333702</td>\n      <td>...</td>\n      <td>-3.974110</td>\n      <td>-3.862068</td>\n      <td>-3.446593</td>\n      <td>-2.749031</td>\n      <td>0.416154</td>\n      <td>-2.034849</td>\n      <td>-2.562367</td>\n      <td>4.268676</td>\n      <td>1.885579</td>\n      <td>-1.244694</td>\n    </tr>\n    <tr>\n      <th>1</th>\n      <td>20.482578</td>\n      <td>-74.162199</td>\n      <td>69.184385</td>\n      <td>-34.151067</td>\n      <td>19.787890</td>\n      <td>-0.181956</td>\n      <td>1.471200</td>\n      <td>0.270675</td>\n      <td>-2.305080</td>\n      <td>-3.401502</td>\n      <td>...</td>\n      <td>-3.436962</td>\n      <td>1.704288</td>\n      <td>1.462103</td>\n      <td>-0.526579</td>\n      <td>1.511646</td>\n      <td>-1.048466</td>\n      <td>-0.459013</td>\n      <td>-7.597394</td>\n      <td>-4.513982</td>\n      <td>1.069812</td>\n    </tr>\n    <tr>\n      <th>2</th>\n      <td>21.258210</td>\n      <td>-73.471550</td>\n      <td>68.076878</td>\n      <td>-35.758201</td>\n      <td>25.825449</td>\n      <td>-2.972525</td>\n      <td>-0.786571</td>\n      <td>-0.026821</td>\n      <td>-0.370764</td>\n      <td>-0.788266</td>\n      <td>...</td>\n      <td>-2.883757</td>\n      <td>2.559318</td>\n      <td>1.745072</td>\n      <td>1.922706</td>\n      <td>5.652148</td>\n      <td>4.164296</td>\n      <td>-5.201447</td>\n      <td>1.988381</td>\n      <td>-2.983573</td>\n      <td>-3.413019</td>\n    </tr>\n    <tr>\n      <th>3</th>\n      <td>19.857928</td>\n      <td>-74.241022</td>\n      <td>69.451059</td>\n      <td>-34.603909</td>\n      <td>19.977524</td>\n      <td>1.373702</td>\n      <td>2.712862</td>\n      <td>0.906379</td>\n      <td>-0.497494</td>\n      <td>-3.448419</td>\n      <td>...</td>\n      <td>2.638927</td>\n      <td>-0.496183</td>\n      <td>-3.942824</td>\n      <td>-0.017053</td>\n      <td>4.768055</td>\n      <td>-2.488416</td>\n      <td>-1.271935</td>\n      <td>-5.649696</td>\n      <td>-2.601809</td>\n      <td>2.501392</td>\n    </tr>\n    <tr>\n      <th>4</th>\n      <td>22.972442</td>\n      <td>-72.860739</td>\n      <td>69.093035</td>\n      <td>-35.739325</td>\n      <td>20.911722</td>\n      <td>-0.882516</td>\n      <td>-0.687485</td>\n      <td>-0.531699</td>\n      <td>-0.277038</td>\n      <td>-3.570726</td>\n      <td>...</td>\n      <td>1.717175</td>\n      <td>-4.160378</td>\n      <td>-2.700974</td>\n      <td>-0.383368</td>\n      <td>-6.699713</td>\n      <td>-4.861057</td>\n      <td>1.625252</td>\n      <td>6.281398</td>\n      <td>-4.786625</td>\n      <td>-3.156542</td>\n    </tr>\n    <tr>\n      <th>...</th>\n      <td>...</td>\n      <td>...</td>\n      <td>...</td>\n      <td>...</td>\n      <td>...</td>\n      <td>...</td>\n      <td>...</td>\n      <td>...</td>\n      <td>...</td>\n      <td>...</td>\n      <td>...</td>\n      <td>...</td>\n      <td>...</td>\n      <td>...</td>\n      <td>...</td>\n      <td>...</td>\n      <td>...</td>\n      <td>...</td>\n      <td>...</td>\n      <td>...</td>\n      <td>...</td>\n    </tr>\n    <tr>\n      <th>7291</th>\n      <td>-107.485501</td>\n      <td>23.697962</td>\n      <td>6.636783</td>\n      <td>52.246444</td>\n      <td>-19.342664</td>\n      <td>1.347518</td>\n      <td>-0.213338</td>\n      <td>1.698341</td>\n      <td>-0.767989</td>\n      <td>3.784771</td>\n      <td>...</td>\n      <td>3.276000</td>\n      <td>-6.122884</td>\n      <td>-7.261908</td>\n      <td>1.023264</td>\n      <td>0.784551</td>\n      <td>1.920128</td>\n      <td>3.392541</td>\n      <td>-2.853997</td>\n      <td>0.761542</td>\n      <td>7.793407</td>\n    </tr>\n    <tr>\n      <th>7292</th>\n      <td>-107.397439</td>\n      <td>22.587690</td>\n      <td>1.776285</td>\n      <td>49.104274</td>\n      <td>-21.380511</td>\n      <td>5.594888</td>\n      <td>2.101889</td>\n      <td>-0.815471</td>\n      <td>1.700092</td>\n      <td>0.968651</td>\n      <td>...</td>\n      <td>1.433457</td>\n      <td>-0.678642</td>\n      <td>1.079254</td>\n      <td>0.257777</td>\n      <td>1.125281</td>\n      <td>-3.380359</td>\n      <td>3.449854</td>\n      <td>3.500964</td>\n      <td>-8.673513</td>\n      <td>-4.835229</td>\n    </tr>\n    <tr>\n      <th>7293</th>\n      <td>-106.109538</td>\n      <td>24.191123</td>\n      <td>0.608641</td>\n      <td>37.516404</td>\n      <td>-26.539447</td>\n      <td>0.318823</td>\n      <td>2.243428</td>\n      <td>-1.229936</td>\n      <td>1.798028</td>\n      <td>1.970624</td>\n      <td>...</td>\n      <td>5.259197</td>\n      <td>-1.109290</td>\n      <td>7.130868</td>\n      <td>-0.563684</td>\n      <td>-2.142125</td>\n      <td>-4.885171</td>\n      <td>1.303480</td>\n      <td>-1.598842</td>\n      <td>3.212735</td>\n      <td>0.712381</td>\n    </tr>\n    <tr>\n      <th>7294</th>\n      <td>-105.814352</td>\n      <td>22.751869</td>\n      <td>3.571967</td>\n      <td>52.879790</td>\n      <td>-21.906625</td>\n      <td>-0.133608</td>\n      <td>2.489736</td>\n      <td>1.297855</td>\n      <td>3.094100</td>\n      <td>1.786804</td>\n      <td>...</td>\n      <td>-2.189987</td>\n      <td>-1.459191</td>\n      <td>1.544142</td>\n      <td>0.967801</td>\n      <td>-0.771689</td>\n      <td>-0.444044</td>\n      <td>-0.890681</td>\n      <td>-1.296275</td>\n      <td>-2.429057</td>\n      <td>-1.878844</td>\n    </tr>\n    <tr>\n      <th>7295</th>\n      <td>-106.916652</td>\n      <td>19.622043</td>\n      <td>4.676390</td>\n      <td>53.413667</td>\n      <td>-19.294440</td>\n      <td>-1.772917</td>\n      <td>3.941260</td>\n      <td>-0.472204</td>\n      <td>6.238149</td>\n      <td>1.856761</td>\n      <td>...</td>\n      <td>0.199249</td>\n      <td>6.152389</td>\n      <td>2.706224</td>\n      <td>-4.204421</td>\n      <td>-3.329752</td>\n      <td>-1.405579</td>\n      <td>3.643816</td>\n      <td>-1.928582</td>\n      <td>4.267744</td>\n      <td>-1.090789</td>\n    </tr>\n  </tbody>\n</table>\n<p>7296 rows × 346 columns</p>\n</div>"
     },
     "execution_count": 8,
     "metadata": {},
     "output_type": "execute_result"
    }
   ],
   "source": [
    "pd.DataFrame(PCA_training_data)"
   ],
   "metadata": {
    "collapsed": false,
    "ExecuteTime": {
     "end_time": "2024-03-27T13:10:15.544149Z",
     "start_time": "2024-03-27T13:10:15.370400Z"
    }
   },
   "id": "c01b0a8d8912c6ec",
   "execution_count": 8
  },
  {
   "cell_type": "code",
   "outputs": [
    {
     "data": {
      "text/plain": "             0          1          2          3          4         5    \\\n0      18.838961 -74.031786  68.964816 -35.474588  21.264002  1.754540   \n1      21.895216 -71.967620  68.717522 -33.860596  25.563993  0.776144   \n2      21.857011 -72.762702  68.678503 -35.317226  25.141980 -0.475020   \n3      18.580557 -72.335365  67.655167 -34.232755  21.608059  1.008291   \n4      22.020201 -73.741688  68.054024 -35.494230  23.423820  0.373778   \n...          ...        ...        ...        ...        ...       ...   \n1819 -103.387599  18.312514   0.467069  41.729186 -26.381010  0.474091   \n1820 -107.395911  22.844534   6.226328  51.671762 -19.294564  2.896962   \n1821 -103.108532  21.478928   2.100530  40.506931 -25.126465 -0.932269   \n1822 -104.679037  20.252128   8.990931  55.609968 -19.028386  1.295289   \n1823 -106.079524  22.313803  -1.818817  38.412936 -25.929384  2.987709   \n\n           6         7         8         9    ...       336       337  \\\n0    -2.321176  0.305687 -2.387818 -4.675822  ... -3.222075 -0.742321   \n1    -2.057305  1.648945 -1.862356 -0.222214  ... -1.246834  5.435562   \n2    -2.171759 -1.411008  0.333297 -0.996228  ...  1.105713  3.750487   \n3    -2.180074  0.124325 -0.116788 -4.993958  ...  0.151525  1.307645   \n4     0.255207  1.110176 -0.673412 -2.071824  ...  3.833836  3.781129   \n...        ...       ...       ...       ...  ...       ...       ...   \n1819 -2.539191  1.166307  3.469269  1.842360  ... -0.923470 -1.213742   \n1820 -0.164239  0.391396 -0.028703  4.742503  ... -3.357832 -3.923127   \n1821  1.512028 -1.571524 -0.153695  1.390160  ...  2.675052 -1.001762   \n1822  1.050789  2.333130 -1.164837  4.434545  ... -2.820149  4.412009   \n1823  1.372097 -1.324132  0.823071  6.655193  ...  1.112108  3.093486   \n\n           338       339       340       341       342       343       344  \\\n0    -0.123505 -0.101267 -1.485956 -3.456380  3.117218 -3.715603 -6.917683   \n1     5.032202 -0.681010  1.485593  1.398300  0.899369 -3.781002  0.104066   \n2    -0.516183  2.139861 -1.294764 -5.177102  3.169244  2.389359  0.673908   \n3    -2.733180  3.128188  3.347765 -0.205901 -2.199912  1.128259 -5.433587   \n4    -2.879488 -0.676628  1.832338 -0.150588  1.499624 -0.886306  1.786518   \n...        ...       ...       ...       ...       ...       ...       ...   \n1819  1.988814  0.096543 -2.855445 -2.279655 -3.175083  3.701039  3.134174   \n1820 -3.051917 -1.214107  8.694513  4.265065  3.709408  1.150345 -3.314822   \n1821 -3.342602  0.950099  0.624038  5.608055 -1.190976 -0.372668  2.181051   \n1822  1.993836  2.571303 -4.891283 -1.690569  0.446988  5.719171 -0.200125   \n1823  3.938371 -3.332575 -3.061882 -0.132347  0.943594 -0.560196  0.167286   \n\n           345  \n0     1.299171  \n1     5.123470  \n2     6.435698  \n3    -4.012213  \n4    -3.008029  \n...        ...  \n1819 -1.787840  \n1820 -2.583572  \n1821  1.435549  \n1822 -2.597223  \n1823  1.681318  \n\n[1824 rows x 346 columns]",
      "text/html": "<div>\n<style scoped>\n    .dataframe tbody tr th:only-of-type {\n        vertical-align: middle;\n    }\n\n    .dataframe tbody tr th {\n        vertical-align: top;\n    }\n\n    .dataframe thead th {\n        text-align: right;\n    }\n</style>\n<table border=\"1\" class=\"dataframe\">\n  <thead>\n    <tr style=\"text-align: right;\">\n      <th></th>\n      <th>0</th>\n      <th>1</th>\n      <th>2</th>\n      <th>3</th>\n      <th>4</th>\n      <th>5</th>\n      <th>6</th>\n      <th>7</th>\n      <th>8</th>\n      <th>9</th>\n      <th>...</th>\n      <th>336</th>\n      <th>337</th>\n      <th>338</th>\n      <th>339</th>\n      <th>340</th>\n      <th>341</th>\n      <th>342</th>\n      <th>343</th>\n      <th>344</th>\n      <th>345</th>\n    </tr>\n  </thead>\n  <tbody>\n    <tr>\n      <th>0</th>\n      <td>18.838961</td>\n      <td>-74.031786</td>\n      <td>68.964816</td>\n      <td>-35.474588</td>\n      <td>21.264002</td>\n      <td>1.754540</td>\n      <td>-2.321176</td>\n      <td>0.305687</td>\n      <td>-2.387818</td>\n      <td>-4.675822</td>\n      <td>...</td>\n      <td>-3.222075</td>\n      <td>-0.742321</td>\n      <td>-0.123505</td>\n      <td>-0.101267</td>\n      <td>-1.485956</td>\n      <td>-3.456380</td>\n      <td>3.117218</td>\n      <td>-3.715603</td>\n      <td>-6.917683</td>\n      <td>1.299171</td>\n    </tr>\n    <tr>\n      <th>1</th>\n      <td>21.895216</td>\n      <td>-71.967620</td>\n      <td>68.717522</td>\n      <td>-33.860596</td>\n      <td>25.563993</td>\n      <td>0.776144</td>\n      <td>-2.057305</td>\n      <td>1.648945</td>\n      <td>-1.862356</td>\n      <td>-0.222214</td>\n      <td>...</td>\n      <td>-1.246834</td>\n      <td>5.435562</td>\n      <td>5.032202</td>\n      <td>-0.681010</td>\n      <td>1.485593</td>\n      <td>1.398300</td>\n      <td>0.899369</td>\n      <td>-3.781002</td>\n      <td>0.104066</td>\n      <td>5.123470</td>\n    </tr>\n    <tr>\n      <th>2</th>\n      <td>21.857011</td>\n      <td>-72.762702</td>\n      <td>68.678503</td>\n      <td>-35.317226</td>\n      <td>25.141980</td>\n      <td>-0.475020</td>\n      <td>-2.171759</td>\n      <td>-1.411008</td>\n      <td>0.333297</td>\n      <td>-0.996228</td>\n      <td>...</td>\n      <td>1.105713</td>\n      <td>3.750487</td>\n      <td>-0.516183</td>\n      <td>2.139861</td>\n      <td>-1.294764</td>\n      <td>-5.177102</td>\n      <td>3.169244</td>\n      <td>2.389359</td>\n      <td>0.673908</td>\n      <td>6.435698</td>\n    </tr>\n    <tr>\n      <th>3</th>\n      <td>18.580557</td>\n      <td>-72.335365</td>\n      <td>67.655167</td>\n      <td>-34.232755</td>\n      <td>21.608059</td>\n      <td>1.008291</td>\n      <td>-2.180074</td>\n      <td>0.124325</td>\n      <td>-0.116788</td>\n      <td>-4.993958</td>\n      <td>...</td>\n      <td>0.151525</td>\n      <td>1.307645</td>\n      <td>-2.733180</td>\n      <td>3.128188</td>\n      <td>3.347765</td>\n      <td>-0.205901</td>\n      <td>-2.199912</td>\n      <td>1.128259</td>\n      <td>-5.433587</td>\n      <td>-4.012213</td>\n    </tr>\n    <tr>\n      <th>4</th>\n      <td>22.020201</td>\n      <td>-73.741688</td>\n      <td>68.054024</td>\n      <td>-35.494230</td>\n      <td>23.423820</td>\n      <td>0.373778</td>\n      <td>0.255207</td>\n      <td>1.110176</td>\n      <td>-0.673412</td>\n      <td>-2.071824</td>\n      <td>...</td>\n      <td>3.833836</td>\n      <td>3.781129</td>\n      <td>-2.879488</td>\n      <td>-0.676628</td>\n      <td>1.832338</td>\n      <td>-0.150588</td>\n      <td>1.499624</td>\n      <td>-0.886306</td>\n      <td>1.786518</td>\n      <td>-3.008029</td>\n    </tr>\n    <tr>\n      <th>...</th>\n      <td>...</td>\n      <td>...</td>\n      <td>...</td>\n      <td>...</td>\n      <td>...</td>\n      <td>...</td>\n      <td>...</td>\n      <td>...</td>\n      <td>...</td>\n      <td>...</td>\n      <td>...</td>\n      <td>...</td>\n      <td>...</td>\n      <td>...</td>\n      <td>...</td>\n      <td>...</td>\n      <td>...</td>\n      <td>...</td>\n      <td>...</td>\n      <td>...</td>\n      <td>...</td>\n    </tr>\n    <tr>\n      <th>1819</th>\n      <td>-103.387599</td>\n      <td>18.312514</td>\n      <td>0.467069</td>\n      <td>41.729186</td>\n      <td>-26.381010</td>\n      <td>0.474091</td>\n      <td>-2.539191</td>\n      <td>1.166307</td>\n      <td>3.469269</td>\n      <td>1.842360</td>\n      <td>...</td>\n      <td>-0.923470</td>\n      <td>-1.213742</td>\n      <td>1.988814</td>\n      <td>0.096543</td>\n      <td>-2.855445</td>\n      <td>-2.279655</td>\n      <td>-3.175083</td>\n      <td>3.701039</td>\n      <td>3.134174</td>\n      <td>-1.787840</td>\n    </tr>\n    <tr>\n      <th>1820</th>\n      <td>-107.395911</td>\n      <td>22.844534</td>\n      <td>6.226328</td>\n      <td>51.671762</td>\n      <td>-19.294564</td>\n      <td>2.896962</td>\n      <td>-0.164239</td>\n      <td>0.391396</td>\n      <td>-0.028703</td>\n      <td>4.742503</td>\n      <td>...</td>\n      <td>-3.357832</td>\n      <td>-3.923127</td>\n      <td>-3.051917</td>\n      <td>-1.214107</td>\n      <td>8.694513</td>\n      <td>4.265065</td>\n      <td>3.709408</td>\n      <td>1.150345</td>\n      <td>-3.314822</td>\n      <td>-2.583572</td>\n    </tr>\n    <tr>\n      <th>1821</th>\n      <td>-103.108532</td>\n      <td>21.478928</td>\n      <td>2.100530</td>\n      <td>40.506931</td>\n      <td>-25.126465</td>\n      <td>-0.932269</td>\n      <td>1.512028</td>\n      <td>-1.571524</td>\n      <td>-0.153695</td>\n      <td>1.390160</td>\n      <td>...</td>\n      <td>2.675052</td>\n      <td>-1.001762</td>\n      <td>-3.342602</td>\n      <td>0.950099</td>\n      <td>0.624038</td>\n      <td>5.608055</td>\n      <td>-1.190976</td>\n      <td>-0.372668</td>\n      <td>2.181051</td>\n      <td>1.435549</td>\n    </tr>\n    <tr>\n      <th>1822</th>\n      <td>-104.679037</td>\n      <td>20.252128</td>\n      <td>8.990931</td>\n      <td>55.609968</td>\n      <td>-19.028386</td>\n      <td>1.295289</td>\n      <td>1.050789</td>\n      <td>2.333130</td>\n      <td>-1.164837</td>\n      <td>4.434545</td>\n      <td>...</td>\n      <td>-2.820149</td>\n      <td>4.412009</td>\n      <td>1.993836</td>\n      <td>2.571303</td>\n      <td>-4.891283</td>\n      <td>-1.690569</td>\n      <td>0.446988</td>\n      <td>5.719171</td>\n      <td>-0.200125</td>\n      <td>-2.597223</td>\n    </tr>\n    <tr>\n      <th>1823</th>\n      <td>-106.079524</td>\n      <td>22.313803</td>\n      <td>-1.818817</td>\n      <td>38.412936</td>\n      <td>-25.929384</td>\n      <td>2.987709</td>\n      <td>1.372097</td>\n      <td>-1.324132</td>\n      <td>0.823071</td>\n      <td>6.655193</td>\n      <td>...</td>\n      <td>1.112108</td>\n      <td>3.093486</td>\n      <td>3.938371</td>\n      <td>-3.332575</td>\n      <td>-3.061882</td>\n      <td>-0.132347</td>\n      <td>0.943594</td>\n      <td>-0.560196</td>\n      <td>0.167286</td>\n      <td>1.681318</td>\n    </tr>\n  </tbody>\n</table>\n<p>1824 rows × 346 columns</p>\n</div>"
     },
     "execution_count": 9,
     "metadata": {},
     "output_type": "execute_result"
    }
   ],
   "source": [
    "pd.DataFrame(PCA_evaluation_data)"
   ],
   "metadata": {
    "collapsed": false,
    "ExecuteTime": {
     "end_time": "2024-03-27T13:10:15.735331Z",
     "start_time": "2024-03-27T13:10:15.545842Z"
    }
   },
   "id": "e934fd84c81f34ec",
   "execution_count": 9
  },
  {
   "cell_type": "markdown",
   "source": [
    "# Kmeans Clustering implementation"
   ],
   "metadata": {
    "collapsed": false
   },
   "id": "c4525146c9de1253"
  },
  {
   "cell_type": "code",
   "outputs": [],
   "source": [
    "class Kmeans:\n",
    "    def __init__(self, n_clusters, max_iter=300, tol=1e-4):\n",
    "        self.centroids = None\n",
    "        self.cluster_centers_ = None\n",
    "        self.clusters = None\n",
    "        self.n_clusters = n_clusters\n",
    "        self.max_iter = max_iter\n",
    "        self.tol = tol\n",
    "        self.inertia_ = None\n",
    "        np.random.seed(42)\n",
    "\n",
    "    def fit(self, data):\n",
    "        # Initialize centroids randomly\n",
    "        clusters = None\n",
    "        centroids_idx = np.random.choice(data.shape[0], self.n_clusters, replace=False)\n",
    "        self.centroids = data[centroids_idx]\n",
    "\n",
    "        for _ in range(self.max_iter):\n",
    "            # Assignment step\n",
    "            distances = np.linalg.norm(data[:, None] - self.centroids, axis=2)\n",
    "            clusters = np.argmin(distances, axis=1)\n",
    "\n",
    "            # Update step\n",
    "            new_centroids = np.array([data[clusters == k].mean(axis=0) for k in range(self.n_clusters)])\n",
    "\n",
    "            # Check convergence\n",
    "            if np.linalg.norm(new_centroids - self.centroids) < self.tol:\n",
    "                break\n",
    "\n",
    "            self.centroids = new_centroids\n",
    "\n",
    "        self.clusters = clusters\n",
    "        self.cluster_centers_ = self.centroids\n",
    "\n",
    "        # Calculate inertia\n",
    "        self.inertia_ = self._calculate_inertia(data)\n",
    "\n",
    "    def _calculate_inertia(self, data):\n",
    "        inertia = 0\n",
    "        for i in range(self.n_clusters):\n",
    "            cluster_points = data[self.clusters == i]\n",
    "            distances = np.linalg.norm(cluster_points - self.centroids[i], axis=1)\n",
    "            inertia += np.sum(distances**2)\n",
    "        return inertia\n",
    "\n",
    "    def predict(self, data):\n",
    "        distances = np.linalg.norm(data[:, None] - self.centroids, axis=2)\n",
    "        return np.argmin(distances, axis=1)"
   ],
   "metadata": {
    "collapsed": false,
    "ExecuteTime": {
     "end_time": "2024-03-27T13:10:15.781968Z",
     "start_time": "2024-03-27T13:10:15.739458Z"
    }
   },
   "id": "29522bfebd0e54ea",
   "execution_count": 10
  },
  {
   "cell_type": "markdown",
   "source": [
    "# Applying Kmeans Clustering on the first approach"
   ],
   "metadata": {
    "collapsed": false
   },
   "id": "467c0283c0351b93"
  },
  {
   "cell_type": "code",
   "outputs": [
    {
     "name": "stdout",
     "output_type": "stream",
     "text": [
      "Silhouette Score: 0.20582421734077247\n",
      "Inertia: 406192.0104156245\n",
      "Silhouette Score: 0.18067801194879612\n",
      "Inertia: 351771.9702320236\n",
      "Silhouette Score: 0.2247389440945375\n",
      "Inertia: 244950.2323166069\n",
      "Silhouette Score: 0.2421022670539106\n",
      "Inertia: 212385.666025683\n",
      "Silhouette Score: 0.2594968500265767\n",
      "Inertia: 167059.42971826\n"
     ]
    }
   ],
   "source": [
    "Ks = [8, 13, 19, 28, 38]\n",
    "means_score = []\n",
    "means_inertia = []\n",
    "for K in Ks:\n",
    "    kmeans = Kmeans(n_clusters=K)\n",
    "    kmeans.fit(training_data_means)\n",
    "    means_score.append(metrics.silhouette_score(training_data_means, kmeans.clusters, metric='euclidean'))\n",
    "    means_inertia.append(kmeans.inertia_)\n",
    "    print(\"Silhouette Score:\", means_score[-1])\n",
    "    print(\"Inertia:\", kmeans.inertia_)\n"
   ],
   "metadata": {
    "collapsed": false,
    "ExecuteTime": {
     "end_time": "2024-03-27T13:10:25.821773Z",
     "start_time": "2024-03-27T13:10:15.784040Z"
    }
   },
   "id": "3b0d72bebc751e61",
   "execution_count": 11
  },
  {
   "cell_type": "markdown",
   "source": [
    "# Applying Kmeans Clustering on the second approach"
   ],
   "metadata": {
    "collapsed": false
   },
   "id": "8c95bf809f093878"
  },
  {
   "cell_type": "code",
   "outputs": [
    {
     "name": "stdout",
     "output_type": "stream",
     "text": [
      "Silhouette Score: 0.14723999657977765\n",
      "Inertia: 185800661.96200022\n",
      "Silhouette Score: 0.11088765376983699\n",
      "Inertia: 171617136.6831025\n",
      "Silhouette Score: 0.08864941242367827\n",
      "Inertia: 156171003.20622104\n",
      "Silhouette Score: 0.07207736818220811\n",
      "Inertia: 148413133.60446167\n",
      "Silhouette Score: 0.0816261061301823\n",
      "Inertia: 138076591.48617598\n"
     ]
    }
   ],
   "source": [
    "reduce_score = []\n",
    "reduce_inertia = []\n",
    "for K in Ks:\n",
    "    kmeans = Kmeans(n_clusters=K)\n",
    "    kmeans.fit(PCA_training_data)\n",
    "    reduce_score.append(metrics.silhouette_score(PCA_training_data, kmeans.clusters, metric='euclidean'))\n",
    "    reduce_inertia.append(kmeans.inertia_)\n",
    "    print(\"Silhouette Score:\", reduce_score[-1])\n",
    "    print(\"Inertia:\", kmeans.inertia_)"
   ],
   "metadata": {
    "collapsed": false,
    "ExecuteTime": {
     "end_time": "2024-03-27T13:11:11.327894Z",
     "start_time": "2024-03-27T13:10:25.823264Z"
    }
   },
   "id": "39dba6c6363ca318",
   "execution_count": 12
  },
  {
   "cell_type": "markdown",
   "source": [
    "# Plotting the results"
   ],
   "metadata": {
    "collapsed": false
   },
   "id": "89908ac44834cae5"
  },
  {
   "cell_type": "markdown",
   "source": [
    "## Silhouette Score vs Number of Clusters"
   ],
   "metadata": {
    "collapsed": false
   },
   "id": "6106db5e9ef2921"
  },
  {
   "cell_type": "code",
   "outputs": [
    {
     "data": {
      "text/plain": "<matplotlib.legend.Legend at 0x75ea0613f160>"
     },
     "execution_count": 19,
     "metadata": {},
     "output_type": "execute_result"
    },
    {
     "data": {
      "text/plain": "<Figure size 1200x600 with 1 Axes>",
      "image/png": "[encoded data removed]"
     },
     "metadata": {},
     "output_type": "display_data"
    }
   ],
   "source": [
    "plt.figure(figsize=(12, 6))\n",
    "plt.subplot(1, 2, 1)\n",
    "plt.plot(Ks, means_score, marker='o', label='Mean Data')\n",
    "plt.plot(Ks, reduce_score, marker='x', label='PCA Data')\n",
    "plt.xlabel('Number of Clusters')\n",
    "plt.ylabel('Silhouette Score')\n",
    "plt.title('Silhouette Score vs Number of Clusters')\n",
    "plt.legend()"
   ],
   "metadata": {
    "collapsed": false,
    "ExecuteTime": {
     "end_time": "2024-03-27T15:02:34.329659Z",
     "start_time": "2024-03-27T15:02:33.995251Z"
    }
   },
   "id": "f1000a38618d870b",
   "execution_count": 19
  },
  {
   "cell_type": "markdown",
   "source": [
    "From the plot, we see that the silhouette score is higher for the mean data compared to the PCA data. This indicates that the mean data is more suitable for clustering compared to the PCA data. The silhouette score is highest for 38 clusters in mean data case while the highest for 8 clusters in the PCA data case."
   ],
   "metadata": {
    "collapsed": false
   },
   "id": "c318ef847aa30904"
  },
  {
   "cell_type": "markdown",
   "source": [
    "## Inertia vs Number of Clusters"
   ],
   "metadata": {
    "collapsed": false
   },
   "id": "ec147cf1de629caa"
  },
  {
   "cell_type": "code",
   "outputs": [
    {
     "data": {
      "text/plain": "<matplotlib.legend.Legend at 0x75e9c4eab130>"
     },
     "execution_count": 20,
     "metadata": {},
     "output_type": "execute_result"
    },
    {
     "data": {
      "text/plain": "<Figure size 1200x600 with 1 Axes>",
      "image/png": "[encoded data removed]"
     },
     "metadata": {},
     "output_type": "display_data"
    }
   ],
   "source": [
    "plt.figure(figsize=(12, 6))\n",
    "plt.subplot(1, 2, 2)\n",
    "plt.plot(Ks, means_inertia, marker='o', label='Mean Data')\n",
    "plt.plot(Ks, reduce_inertia, marker='x', label='PCA Data')\n",
    "plt.xlabel('Number of Clusters')\n",
    "plt.ylabel('Inertia')\n",
    "plt.title('Inertia vs Number of Clusters')\n",
    "plt.legend()"
   ],
   "metadata": {
    "collapsed": false,
    "ExecuteTime": {
     "end_time": "2024-03-27T15:02:38.460348Z",
     "start_time": "2024-03-27T15:02:38.239693Z"
    }
   },
   "id": "5252d6156ff87215",
   "execution_count": 20
  },
  {
   "cell_type": "markdown",
   "source": [
    "From the plot, we see that the inertia is higher for the PCA data compared to the mean data. This indicates that the mean data is more suitable for clustering compared to the PCA data. The inertia is highest for eight clusters in both cases."
   ],
   "metadata": {
    "collapsed": false
   },
   "id": "d36f4dfdd047c3dd"
  },
  {
   "cell_type": "markdown",
   "source": [
    "# Conclusion"
   ],
   "metadata": {
    "collapsed": false
   },
   "id": "cecb9f0812cb10fc"
  },
  {
   "cell_type": "markdown",
   "source": [
    "We observed that the mean data is more suitable for clustering compared to the PCA data because of the following:\n",
    "1- The silhouette score is higher for the mean data compared to the PCA data.\n",
    "2- The inertia is lower for the mean data compared to the PCA data."
   ],
   "metadata": {
    "collapsed": false
   },
   "id": "d7c30148183ea843"
  },
  {
   "cell_type": "markdown",
   "source": [
    "# Evaluation"
   ],
   "metadata": {
    "collapsed": false
   },
   "id": "a099440ee3d9eeb4"
  },
  {
   "cell_type": "markdown",
   "source": [
    "## Purity"
   ],
   "metadata": {
    "collapsed": false
   },
   "id": "62e532ec698873e4"
  },
  {
   "cell_type": "code",
   "outputs": [
    {
     "name": "stdout",
     "output_type": "stream",
     "text": [
      "Means approach\n",
      "Training data=> # clusters = 8: 0.2727521929824561\n",
      "Evaluation data=> # clusters = 8: 0.27631578947368424\n",
      "Training data=> # clusters = 13: 0.3789747807017544\n",
      "Evaluation data=> # clusters = 13: 0.3848684210526316\n",
      "Training data=> # clusters = 19: 0.5038377192982456\n",
      "Evaluation data=> # clusters = 19: 0.5032894736842105\n",
      "Training data=> # clusters = 28: 0.5105537280701754\n",
      "Evaluation data=> # clusters = 28: 0.5137061403508771\n",
      "Training data=> # clusters = 38: 0.5548245614035088\n",
      "Evaluation data=> # clusters = 38: 0.5520833333333334\n",
      "PCA approach\n",
      "Training data=> # clusters = 8: 0.27617872807017546\n",
      "Evaluation data=> # clusters = 8: 0.2730263157894737\n",
      "Training data=> # clusters = 13: 0.36992872807017546\n",
      "Evaluation data=> # clusters = 13: 0.36622807017543857\n",
      "Training data=> # clusters = 19: 0.4594298245614035\n",
      "Evaluation data=> # clusters = 19: 0.4583333333333333\n",
      "Training data=> # clusters = 28: 0.5134320175438597\n",
      "Evaluation data=> # clusters = 28: 0.5164473684210527\n",
      "Training data=> # clusters = 38: 0.5208333333333334\n",
      "Evaluation data=> # clusters = 38: 0.5241228070175439\n"
     ]
    }
   ],
   "source": [
    "# Means approach\n",
    "print(\"Means approach\")\n",
    "for K in Ks:\n",
    "    kmeans = Kmeans(n_clusters=K)\n",
    "    kmeans.fit(training_data_means)\n",
    "    test_clusters=kmeans.predict(evaluation_data_means)\n",
    "    print(f'Training data=> # clusters = {K}:', compute_purity(compute_clusters(training_labels, kmeans.clusters, K), len(training_data_means)))\n",
    "    print(f'Evaluation data=> # clusters = {K}:', compute_purity(compute_clusters(evaluation_labels, test_clusters, K), len(evaluation_data_means)))\n",
    "\n",
    "# PCA approach\n",
    "print(\"PCA approach\")\n",
    "for K in Ks:\n",
    "    kmeans = Kmeans(n_clusters=K)\n",
    "    kmeans.fit(PCA_training_data)\n",
    "    test_clusters=kmeans.predict(PCA_evaluation_data)\n",
    "    print(f'Training data=> # clusters = {K}:', compute_purity(compute_clusters(training_labels, kmeans.clusters, K), len(PCA_training_data)))\n",
    "    print(f'Evaluation data=> # clusters = {K}:', compute_purity(compute_clusters(evaluation_labels, test_clusters, K), len(PCA_evaluation_data)))"
   ],
   "metadata": {
    "collapsed": false,
    "ExecuteTime": {
     "end_time": "2024-03-27T13:12:03.886240Z",
     "start_time": "2024-03-27T13:11:11.806327Z"
    }
   },
   "id": "2fe9e5cec056c660",
   "execution_count": 15
  },
  {
   "cell_type": "markdown",
   "source": [
    "## Recall"
   ],
   "metadata": {
    "collapsed": false
   },
   "id": "6a1cc2fb35fee111"
  },
  {
   "cell_type": "code",
   "outputs": [
    {
     "name": "stdout",
     "output_type": "stream",
     "text": [
      "Means approach\n",
      "Training data=> # clusters = 8: 0.7319621482090644\n",
      "Evaluation data=> # clusters = 8: 0.7413537097953217\n",
      "Training data=> # clusters = 13: 0.6359834726790936\n",
      "Evaluation data=> # clusters = 13: 0.6467813413742689\n",
      "Training data=> # clusters = 19: 0.576749388934576\n",
      "Evaluation data=> # clusters = 19: 0.5792614674707601\n",
      "Training data=> # clusters = 28: 0.4110849837810672\n",
      "Evaluation data=> # clusters = 28: 0.41575292397660824\n",
      "Training data=> # clusters = 38: 0.3431599934895833\n",
      "Evaluation data=> # clusters = 38: 0.3418996710526316\n",
      "PCA approach\n",
      "Training data=> # clusters = 8: 0.8906960292169226\n",
      "Evaluation data=> # clusters = 8: 0.899802403143275\n",
      "Training data=> # clusters = 13: 0.8145480685763888\n",
      "Evaluation data=> # clusters = 13: 0.8240131578947368\n",
      "Training data=> # clusters = 19: 0.6189357467562135\n",
      "Evaluation data=> # clusters = 19: 0.6287063687865497\n",
      "Training data=> # clusters = 28: 0.47578974495157167\n",
      "Evaluation data=> # clusters = 28: 0.48726471125730997\n",
      "Training data=> # clusters = 38: 0.3883056640624999\n",
      "Evaluation data=> # clusters = 38: 0.4071009228801169\n"
     ]
    }
   ],
   "source": [
    "# Means approach\n",
    "print(\"Means approach\")\n",
    "for K in Ks:\n",
    "    kmeans = Kmeans(n_clusters=K)\n",
    "    kmeans.fit(training_data_means)\n",
    "    test_clusters=kmeans.predict(evaluation_data_means)\n",
    "    print(f'Training data=> # clusters = {K}:', compute_recall(compute_clusters(training_labels, kmeans.clusters, K), len(training_data_means)))\n",
    "    print(f'Evaluation data=> # clusters = {K}:', compute_recall(compute_clusters(evaluation_labels, test_clusters, K), len(evaluation_data_means)))\n",
    "\n",
    "# PCA approach\n",
    "print(\"PCA approach\")\n",
    "for K in Ks:\n",
    "    kmeans = Kmeans(n_clusters=K)\n",
    "    kmeans.fit(PCA_training_data)\n",
    "    test_clusters=kmeans.predict(PCA_evaluation_data)\n",
    "    print(f'Training data=> # clusters = {K}:', compute_recall(compute_clusters(training_labels, kmeans.clusters, K), len(PCA_training_data)))\n",
    "    print(f'Evaluation data=> # clusters = {K}:', compute_recall(compute_clusters(evaluation_labels, test_clusters, K), len(PCA_evaluation_data)))"
   ],
   "metadata": {
    "collapsed": false,
    "ExecuteTime": {
     "end_time": "2024-03-27T13:12:56.948042Z",
     "start_time": "2024-03-27T13:12:03.887691Z"
    }
   },
   "id": "1e57e09ca1a31405",
   "execution_count": 16
  },
  {
   "cell_type": "markdown",
   "source": [
    "## F1 Score"
   ],
   "metadata": {
    "collapsed": false
   },
   "id": "fdf7fc37cf68b65e"
  },
  {
   "cell_type": "code",
   "outputs": [
    {
     "name": "stdout",
     "output_type": "stream",
     "text": [
      "Means approach\n",
      "Training data=> # clusters = 8: 0.40217652619900757\n",
      "Evaluation data=> # clusters = 8: 0.4063353448530108\n",
      "Training data=> # clusters = 13: 0.46537381601534344\n",
      "Evaluation data=> # clusters = 13: 0.4725303892171923\n",
      "Training data=> # clusters = 19: 0.4845980791345595\n",
      "Evaluation data=> # clusters = 19: 0.4831586761581224\n",
      "Training data=> # clusters = 28: 0.3956348284437177\n",
      "Evaluation data=> # clusters = 28: 0.39658143284489217\n",
      "Training data=> # clusters = 38: 0.3551220090578746\n",
      "Evaluation data=> # clusters = 38: 0.35274205420936405\n",
      "PCA approach\n",
      "Training data=> # clusters = 8: 0.4196539093214403\n",
      "Evaluation data=> # clusters = 8: 0.4066210690246757\n",
      "Training data=> # clusters = 13: 0.4130608284909204\n",
      "Evaluation data=> # clusters = 13: 0.3991374624194114\n",
      "Training data=> # clusters = 19: 0.4351679332574515\n",
      "Evaluation data=> # clusters = 19: 0.4299235552461598\n",
      "Training data=> # clusters = 28: 0.3873366788242488\n",
      "Evaluation data=> # clusters = 28: 0.38688309972451923\n",
      "Training data=> # clusters = 38: 0.32301290895233536\n",
      "Evaluation data=> # clusters = 38: 0.3207768621363424\n"
     ]
    }
   ],
   "source": [
    "# Means approach\n",
    "print(\"Means approach\")\n",
    "for K in Ks:\n",
    "    kmeans = Kmeans(n_clusters=K)\n",
    "    kmeans.fit(training_data_means)\n",
    "    test_clusters=kmeans.predict(evaluation_data_means)\n",
    "    print(f'Training data=> # clusters = {K}:', compute_f1(compute_clusters(training_labels, kmeans.clusters, K)))\n",
    "    print(f'Evaluation data=> # clusters = {K}:', compute_f1(compute_clusters(evaluation_labels, test_clusters, K)))\n",
    "\n",
    "# PCA approach\n",
    "print(\"PCA approach\")\n",
    "for K in Ks:\n",
    "    kmeans = Kmeans(n_clusters=K)\n",
    "    kmeans.fit(PCA_training_data)\n",
    "    test_clusters=kmeans.predict(PCA_evaluation_data)\n",
    "    print(f'Training data=> # clusters = {K}:', compute_f1(compute_clusters(training_labels, kmeans.clusters, K)))\n",
    "    print(f'Evaluation data=> # clusters = {K}:', compute_f1(compute_clusters(evaluation_labels, test_clusters, K)))"
   ],
   "metadata": {
    "collapsed": false,
    "ExecuteTime": {
     "end_time": "2024-03-27T13:13:46.239463Z",
     "start_time": "2024-03-27T13:12:56.949429Z"
    }
   },
   "id": "c07bc776cfa46d9a",
   "execution_count": 17
  },
  {
   "cell_type": "markdown",
   "source": [
    "## Conditional Entropy"
   ],
   "metadata": {
    "collapsed": false
   },
   "id": "20f8dba1f47ce14d"
  },
  {
   "cell_type": "code",
   "outputs": [
    {
     "name": "stdout",
     "output_type": "stream",
     "text": [
      "Means approach\n",
      "Training data=> # clusters = 8: 2.59547454176182\n",
      "Evaluation data=> # clusters = 8: 2.5863561795649685\n",
      "Training data=> # clusters = 13: 2.212211616375981\n",
      "Evaluation data=> # clusters = 13: 2.200867321329525\n",
      "Training data=> # clusters = 19: 1.8293647137976\n",
      "Evaluation data=> # clusters = 19: 1.8347378110345454\n",
      "Training data=> # clusters = 28: 1.6481767657662678\n",
      "Evaluation data=> # clusters = 28: 1.655388497206718\n",
      "Training data=> # clusters = 38: 1.5141782273402418\n",
      "Evaluation data=> # clusters = 38: 1.5175758464592073\n",
      "PCA approach\n",
      "Training data=> # clusters = 8: 2.637557550902777\n",
      "Evaluation data=> # clusters = 8: 2.6459859389017386\n",
      "Training data=> # clusters = 13: 2.3547528173673404\n",
      "Evaluation data=> # clusters = 13: 2.3648411197607144\n",
      "Training data=> # clusters = 19: 2.032922768619152\n",
      "Evaluation data=> # clusters = 19: 2.0285032560545893\n",
      "Training data=> # clusters = 28: 1.8059219833614781\n",
      "Evaluation data=> # clusters = 28: 1.7975271556310757\n",
      "Training data=> # clusters = 38: 1.7075905034151126\n",
      "Evaluation data=> # clusters = 38: 1.7186461202856167\n"
     ]
    }
   ],
   "source": [
    "# Means approach\n",
    "print(\"Means approach\")\n",
    "for K in Ks:\n",
    "    kmeans = Kmeans(n_clusters=K)\n",
    "    kmeans.fit(training_data_means)\n",
    "    test_clusters=kmeans.predict(evaluation_data_means)\n",
    "    print(f'Training data=> # clusters = {K}:', compute_entropy(compute_clusters(training_labels, kmeans.clusters, K), len(training_data_means)))\n",
    "    print(f'Evaluation data=> # clusters = {K}:', compute_entropy(compute_clusters(evaluation_labels, test_clusters, K), len(evaluation_data_means)))\n",
    "\n",
    "# PCA approach\n",
    "print(\"PCA approach\")\n",
    "for K in Ks:\n",
    "    kmeans = Kmeans(n_clusters=K)\n",
    "    kmeans.fit(PCA_training_data)\n",
    "    test_clusters=kmeans.predict(PCA_evaluation_data)\n",
    "    print(f'Training data=> # clusters = {K}:', compute_entropy(compute_clusters(training_labels, kmeans.clusters, K), len(PCA_training_data)))\n",
    "    print(f'Evaluation data=> # clusters = {K}:', compute_entropy(compute_clusters(evaluation_labels, test_clusters, K), len(PCA_evaluation_data)))"
   ],
   "metadata": {
    "collapsed": false,
    "ExecuteTime": {
     "end_time": "2024-03-27T13:14:32.804337Z",
     "start_time": "2024-03-27T13:13:46.240862Z"
    }
   },
   "id": "624f01fe81ef1d7d",
   "execution_count": 18
  }
 ],
 "metadata": {
  "kernelspec": {
   "display_name": "Python 3",
   "language": "python",
   "name": "python3"
  },
  "language_info": {
   "codemirror_mode": {
    "name": "ipython",
    "version": 2
   },
   "file_extension": ".py",
   "mimetype": "text/x-python",
   "name": "python",
   "nbconvert_exporter": "python",
   "pygments_lexer": "ipython2",
   "version": "2.7.6"
  }
 },
 "nbformat": 4,
 "nbformat_minor": 5
}

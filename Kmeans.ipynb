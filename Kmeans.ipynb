{
 "cells": [
  {
   "cell_type": "markdown",
   "source": [
    "# Reading Data from Text Files"
   ],
   "metadata": {
    "collapsed": false
   },
   "id": "f3d3807ac9e97836"
  },
  {
   "cell_type": "code",
   "execution_count": 2,
   "id": "initial_id",
   "metadata": {
    "collapsed": true,
    "ExecuteTime": {
     "end_time": "2024-03-26T20:36:21.468786Z",
     "start_time": "2024-03-26T20:33:03.300551Z"
    }
   },
   "outputs": [
    {
     "name": "stdout",
     "output_type": "stream",
     "text": [
      "Activity Number: 11\n",
      "Activity: a11\n",
      "Activity Number: 13\n",
      "Activity: a13\n",
      "Activity Number: 18\n",
      "Activity: a18\n",
      "Activity Number: 3\n",
      "Activity: a03\n",
      "Activity Number: 5\n",
      "Activity: a05\n",
      "Activity Number: 4\n",
      "Activity: a04\n",
      "Activity Number: 19\n",
      "Activity: a19\n",
      "Activity Number: 6\n",
      "Activity: a06\n",
      "Activity Number: 7\n",
      "Activity: a07\n",
      "Activity Number: 8\n",
      "Activity: a08\n",
      "Activity Number: 2\n",
      "Activity: a02\n",
      "Activity Number: 1\n",
      "Activity: a01\n",
      "Activity Number: 12\n",
      "Activity: a12\n",
      "Activity Number: 15\n",
      "Activity: a15\n",
      "Activity Number: 17\n",
      "Activity: a17\n",
      "Activity Number: 14\n",
      "Activity: a14\n",
      "Activity Number: 16\n",
      "Activity: a16\n",
      "Activity Number: 10\n",
      "Activity: a10\n",
      "Activity Number: 9\n",
      "Activity: a09\n",
      "Shape of training data (means): (7296, 45)\n",
      "Shape of evaluation data (means): (1824, 45)\n",
      "Shape of flattened training data: (7296, 5625)\n",
      "Shape of flattened evaluation data: (1824, 5625)\n",
      "Shape of PCA training data: (7296, 346)\n",
      "Shape of PCA evaluation data: (1824, 197)\n"
     ]
    }
   ],
   "source": [
    "import os\n",
    "import numpy as np\n",
    "from sklearn.decomposition import PCA\n",
    "\n",
    "data_directory = \"/home/hussein/PatternDatasets/Activities\"\n",
    "training_data_means = []\n",
    "evaluation_data_means = []\n",
    "flattened_training_data = []\n",
    "flattened_evaluation_data = []\n",
    "training_labels = []\n",
    "evaluation_labels = []\n",
    "\n",
    "# Step 1: Accessing the Data Directory\n",
    "activities = os.listdir(data_directory)\n",
    "\n",
    "# Step 2: Iterating Through Activity Folders\n",
    "for activity in activities:\n",
    "    activity_path = os.path.join(data_directory, activity)\n",
    "    activity_number = int(activity.split(\"a\")[1])\n",
    "    \n",
    "    print(\"Activity Number:\", activity_number)\n",
    "    print(\"Activity:\", activity)\n",
    "    training_labels.extend([activity_number] * 48)  # 48 segments for training\n",
    "    evaluation_labels.extend([activity_number] * 12)  # 12 segments for evaluation\n",
    "    \n",
    "    \n",
    "    # Step 3: Iterating Through Subject Folders\n",
    "    subjects = os.listdir(activity_path)\n",
    "    for subject in subjects:\n",
    "        subject_path = os.path.join(activity_path, subject)\n",
    "        \n",
    "        # Step 4: Reading Text Files (Segments)\n",
    "        segments = os.listdir(subject_path)\n",
    "        training_segments = segments[:48]  # First 48 segments for training\n",
    "        evaluation_segments = segments[48:]  # Rest for evaluation\n",
    "        \n",
    "        for segment_file in training_segments:\n",
    "            segment_file_path = os.path.join(subject_path, segment_file)\n",
    "            with open(segment_file_path, 'r') as file:\n",
    "                segment_data = np.loadtxt(file, delimiter=',')\n",
    "                mean_data = np.mean(segment_data, axis=0)  # Taking mean along columns\n",
    "                training_data_means.append(mean_data)\n",
    "                \n",
    "                flattened_data = segment_data.flatten()  # Flattening the segment\n",
    "                flattened_training_data.append(flattened_data)\n",
    "        \n",
    "        for segment_file in evaluation_segments:\n",
    "            segment_file_path = os.path.join(subject_path, segment_file)\n",
    "            with open(segment_file_path, 'r') as file:\n",
    "                segment_data = np.loadtxt(file, delimiter=',')\n",
    "                mean_data = np.mean(segment_data, axis=0)  # Taking mean along columns\n",
    "                evaluation_data_means.append(mean_data)\n",
    "                \n",
    "                flattened_data = segment_data.flatten()  # Flattening the segment\n",
    "                flattened_evaluation_data.append(flattened_data)\n",
    "\n",
    "# Convert the data lists into numpy arrays\n",
    "training_data_means = np.array(training_data_means)\n",
    "evaluation_data_means = np.array(evaluation_data_means)\n",
    "flattened_training_data = np.array(flattened_training_data)\n",
    "flattened_evaluation_data = np.array(flattened_evaluation_data)\n",
    "PCA_training_data = PCA(n_components=0.9).fit_transform(flattened_training_data)\n",
    "PCA_evaluation_data = PCA(n_components=0.9).fit_transform(flattened_evaluation_data)\n",
    "\n",
    "\n",
    "# Now, 'training_data_means' and 'evaluation_data_means' contain mean values of each column for each segment,\n",
    "# and 'flattened_training_data' and 'flattened_evaluation_data' contain flattened data for each segment.\n",
    "print(\"Shape of training data (means):\", training_data_means.shape)\n",
    "print(\"Shape of evaluation data (means):\", evaluation_data_means.shape)\n",
    "print(\"Shape of flattened training data:\", flattened_training_data.shape)\n",
    "print(\"Shape of flattened evaluation data:\", flattened_evaluation_data.shape)\n",
    "print(\"Shape of PCA training data:\", PCA_training_data.shape)\n",
    "print(\"Shape of PCA evaluation data:\", PCA_evaluation_data.shape)\n"
   ]
  },
  {
   "cell_type": "markdown",
   "source": [
    "# Kmeans Clustering implementation"
   ],
   "metadata": {
    "collapsed": false
   },
   "id": "921b45fab9039192"
  },
  {
   "cell_type": "code",
   "outputs": [],
   "source": [
    "class Kmeans:\n",
    "    def __init__(self, n_clusters, max_iter=300, tol=1e-4):\n",
    "        self.centroids = None\n",
    "        self.cluster_centers_ = None\n",
    "        self.labels_ = None\n",
    "        self.n_clusters = n_clusters\n",
    "        self.max_iter = max_iter\n",
    "        self.tol = tol\n",
    "        self.inertia_ = None\n",
    "        np.random.seed(42)\n",
    "\n",
    "    def fit(self, data):\n",
    "        # Initialize centroids randomly\n",
    "        labels= None\n",
    "        centroids_idx = np.random.choice(data.shape[0], self.n_clusters, replace=False)\n",
    "        self.centroids = data[centroids_idx]\n",
    "\n",
    "        for _ in range(self.max_iter):\n",
    "            # Assignment step\n",
    "            distances = np.linalg.norm(data[:, None] - self.centroids, axis=2)\n",
    "            labels = np.argmin(distances, axis=1)\n",
    "\n",
    "            # Update step\n",
    "            new_centroids = np.array([data[labels == k].mean(axis=0) for k in range(self.n_clusters)])\n",
    "\n",
    "            # Check convergence\n",
    "            if np.linalg.norm(new_centroids - self.centroids) < self.tol:\n",
    "                break\n",
    "\n",
    "            self.centroids = new_centroids\n",
    "\n",
    "        self.labels_ = labels\n",
    "        self.cluster_centers_ = self.centroids\n",
    "\n",
    "        # Calculate inertia\n",
    "        self.inertia_ = self._calculate_inertia(data)\n",
    "\n",
    "    def _calculate_inertia(self, data):\n",
    "        inertia = 0\n",
    "        for i in range(self.n_clusters):\n",
    "            cluster_points = data[self.labels_ == i]\n",
    "            distances = np.linalg.norm(cluster_points - self.centroids[i], axis=1)\n",
    "            inertia += np.sum(distances**2)\n",
    "        return inertia\n",
    "\n",
    "    def predict(self, data):\n",
    "        distances = np.linalg.norm(data[:, None] - self.centroids, axis=2)\n",
    "        return np.argmin(distances, axis=1)"
   ],
   "metadata": {
    "collapsed": false,
    "ExecuteTime": {
     "end_time": "2024-03-26T20:36:21.496523Z",
     "start_time": "2024-03-26T20:36:21.474204Z"
    }
   },
   "id": "ed417a9321c561b4",
   "execution_count": 3
  },
  {
   "cell_type": "markdown",
   "source": [
    "# Applying Kmeans Clustering on the first approach"
   ],
   "metadata": {
    "collapsed": false
   },
   "id": "36e2f65048d0b5b"
  },
  {
   "cell_type": "code",
   "outputs": [
    {
     "name": "stdout",
     "output_type": "stream",
     "text": [
      "Silhouette Score: 0.20582421734077247\n",
      "Inertia: 406192.0104156245\n",
      "Silhouette Score: 0.18067801194879612\n",
      "Inertia: 351771.9702320236\n",
      "Silhouette Score: 0.2247389440945375\n",
      "Inertia: 244950.2323166069\n",
      "Silhouette Score: 0.2421022670539106\n",
      "Inertia: 212385.666025683\n",
      "Silhouette Score: 0.2594968500265767\n",
      "Inertia: 167059.42971826\n"
     ]
    }
   ],
   "source": [
    "from sklearn import metrics\n",
    "k=[8, 13, 19, 28, 38]\n",
    "means_score = []\n",
    "means_inertia = []\n",
    "for i in k:\n",
    "    kmeans = Kmeans(n_clusters=i)\n",
    "    kmeans.fit(training_data_means)\n",
    "    means_score.append(metrics.silhouette_score(training_data_means, kmeans.labels_, metric='euclidean'))\n",
    "    means_inertia.append(kmeans.inertia_)\n",
    "    print(\"Silhouette Score:\", means_score[-1])\n",
    "    print(\"Inertia:\", kmeans.inertia_)\n"
   ],
   "metadata": {
    "collapsed": false,
    "ExecuteTime": {
     "end_time": "2024-03-26T20:36:31.429040Z",
     "start_time": "2024-03-26T20:36:21.505430Z"
    }
   },
   "id": "293cd5374ba33439",
   "execution_count": 4
  },
  {
   "cell_type": "markdown",
   "source": [
    "# Applying Kmeans Clustering on the second approach"
   ],
   "metadata": {
    "collapsed": false
   },
   "id": "1c50397fbe486c1c"
  },
  {
   "cell_type": "code",
   "outputs": [
    {
     "name": "stdout",
     "output_type": "stream",
     "text": [
      "Silhouette Score: 0.14723999657977765\n",
      "Inertia: 185800661.96200022\n",
      "Silhouette Score: 0.11088765376983699\n",
      "Inertia: 171617136.6831025\n",
      "Silhouette Score: 0.08864941242367827\n",
      "Inertia: 156171003.20622104\n",
      "Silhouette Score: 0.07207736818220811\n",
      "Inertia: 148413133.60446167\n",
      "Silhouette Score: 0.0816261061301823\n",
      "Inertia: 138076591.48617598\n"
     ]
    }
   ],
   "source": [
    "reduce_score = []\n",
    "reduce_inertia = []\n",
    "for i in k:\n",
    "    kmeans = Kmeans(n_clusters=i)\n",
    "    kmeans.fit(PCA_training_data)\n",
    "    reduce_score.append(metrics.silhouette_score(PCA_training_data, kmeans.labels_, metric='euclidean'))\n",
    "    reduce_inertia.append(kmeans.inertia_)\n",
    "    print(\"Silhouette Score:\", reduce_score[-1])\n",
    "    print(\"Inertia:\", kmeans.inertia_)"
   ],
   "metadata": {
    "collapsed": false,
    "ExecuteTime": {
     "end_time": "2024-03-26T20:38:49.115055Z",
     "start_time": "2024-03-26T20:36:31.431299Z"
    }
   },
   "id": "8221cfdfd213ea1d",
   "execution_count": 5
  },
  {
   "cell_type": "markdown",
   "source": [
    "# Plotting the results"
   ],
   "metadata": {
    "collapsed": false
   },
   "id": "9d86fd16c6cd6a2e"
  },
  {
   "cell_type": "markdown",
   "source": [
    "## Silhouette Score vs Number of Clusters"
   ],
   "metadata": {
    "collapsed": false
   },
   "id": "944b21b66f9a1a42"
  },
  {
   "cell_type": "code",
   "outputs": [
    {
     "data": {
      "text/plain": "<Figure size 864x432 with 1 Axes>",
      "image/png": "[encoded data removed]"
     },
     "metadata": {
      "needs_background": "light"
     },
     "output_type": "display_data"
    }
   ],
   "source": [
    "import matplotlib.pyplot as plt\n",
    "\n",
    "plt.figure(figsize=(12, 6))\n",
    "plt.subplot(1, 2, 1)\n",
    "plt.plot(k, means_score, marker='o', label='Mean Data')\n",
    "plt.plot(k, reduce_score, marker='x', label='PCA Data')\n",
    "plt.xlabel('Number of Clusters')\n",
    "plt.ylabel('Silhouette Score')\n",
    "plt.title('Silhouette Score vs Number of Clusters')\n",
    "plt.show()"
   ],
   "metadata": {
    "collapsed": false,
    "ExecuteTime": {
     "end_time": "2024-03-26T21:03:54.293882Z",
     "start_time": "2024-03-26T21:03:54.170473Z"
    }
   },
   "id": "8f1e3d9ecc2f74a4",
   "execution_count": 21
  },
  {
   "cell_type": "markdown",
   "source": [
    "From the plot we see that the silhouette score is higher for the mean data compared to the PCA data. This indicates that the mean data is more suitable for clustering compared to the PCA data. The silhouette score is highest for 38 clusters in mean data case while the highest for 8 clusters in the PCA data case."
   ],
   "metadata": {
    "collapsed": false
   },
   "id": "eebfd580b0d5a63f"
  },
  {
   "cell_type": "markdown",
   "source": [
    "## Inertia vs Number of Clusters"
   ],
   "metadata": {
    "collapsed": false
   },
   "id": "29246aeeca2bda13"
  },
  {
   "cell_type": "code",
   "outputs": [
    {
     "data": {
      "text/plain": "<Figure size 864x432 with 1 Axes>",
      "image/png": "[encoded data removed]"
     },
     "metadata": {
      "needs_background": "light"
     },
     "output_type": "display_data"
    }
   ],
   "source": [
    "plt.figure(figsize=(12, 6))\n",
    "plt.subplot(1, 2, 2)\n",
    "plt.plot(k, means_inertia, marker='o', label='Mean Data')\n",
    "plt.plot(k, reduce_inertia, marker='x', label='PCA Data')\n",
    "plt.xlabel('Number of Clusters')\n",
    "plt.ylabel('Inertia')\n",
    "plt.title('Inertia vs Number of Clusters')\n",
    "plt.show()"
   ],
   "metadata": {
    "collapsed": false,
    "ExecuteTime": {
     "end_time": "2024-03-26T21:03:56.835856Z",
     "start_time": "2024-03-26T21:03:56.711082Z"
    }
   },
   "id": "bdede66b7f9db06b",
   "execution_count": 22
  },
  {
   "cell_type": "markdown",
   "source": [
    "From the plot we see that the inertia is higher for the PCA data compared to the mean data. This indicates that the mean data is more suitable for clustering compared to the PCA data. The inertia is highest for 8 clusters in both cases."
   ],
   "metadata": {
    "collapsed": false
   },
   "id": "cf4592368e99162"
  },
  {
   "cell_type": "markdown",
   "source": [
    "# Conclusion"
   ],
   "metadata": {
    "collapsed": false
   },
   "id": "9a9b5acb31c3e90d"
  },
  {
   "cell_type": "markdown",
   "source": [
    "We observed that the mean data is more suitable for clustering compared to the PCA data as the silhouette score is higher for the mean data compared to the PCA data and the inertia is lower for the mean data compared to the PCA data."
   ],
   "metadata": {
    "collapsed": false
   },
   "id": "6b72c5b46e5a4a8f"
  }
 ],
 "metadata": {
  "kernelspec": {
   "display_name": "Python 3",
   "language": "python",
   "name": "python3"
  },
  "language_info": {
   "codemirror_mode": {
    "name": "ipython",
    "version": 2
   },
   "file_extension": ".py",
   "mimetype": "text/x-python",
   "name": "python",
   "nbconvert_exporter": "python",
   "pygments_lexer": "ipython2",
   "version": "2.7.6"
  }
 },
 "nbformat": 4,
 "nbformat_minor": 5
}
